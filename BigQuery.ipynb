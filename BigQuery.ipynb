{
 "cells": [
  {
   "cell_type": "code",
   "execution_count": 1,
   "metadata": {},
   "outputs": [],
   "source": [
    "#conda install -c conda-forge google-cloud-bigquery google-cloud-bigquery-storage pyarrow"
   ]
  },
  {
   "cell_type": "code",
   "execution_count": 2,
   "metadata": {},
   "outputs": [
    {
     "data": {
      "text/plain": [
       "'Create a BigQuery client with Application Default Credentials'"
      ]
     },
     "execution_count": 2,
     "metadata": {},
     "output_type": "execute_result"
    }
   ],
   "source": [
    "# 1. Credentials\n",
    "\n",
    "from google.cloud import bigquery\n",
    "import os\n",
    "import mock\n",
    "\n",
    "os.environ[\"GOOGLE_APPLICATION_CREDENTIALS\"]=\"./Homicidios2018-f879e4dfe9a2.json\"\n",
    "\n",
    "client = bigquery.Client.from_service_account_json(\n",
    "        \"./Homicidios2018-f879e4dfe9a2.json\"\n",
    "    )\n",
    "\n",
    "assert client is not None\n",
    "\"\"\"Create a BigQuery client with Application Default Credentials\"\"\""
   ]
  },
  {
   "cell_type": "code",
   "execution_count": 3,
   "metadata": {},
   "outputs": [
    {
     "name": "stdout",
     "output_type": "stream",
     "text": [
      "4964\n"
     ]
    }
   ],
   "source": [
    "import pandas as pd\n",
    "\n",
    "homicidios_2018 = pd.read_csv('./modified_dataset/homicidios_2018.csv')\n",
    "print(len(homicidios_2018))"
   ]
  },
  {
   "cell_type": "code",
   "execution_count": 5,
   "metadata": {},
   "outputs": [
    {
     "name": "stdout",
     "output_type": "stream",
     "text": [
      "The table already exist\n"
     ]
    }
   ],
   "source": [
    "from google.cloud import bigquery\n",
    "from google.cloud.exceptions import NotFound\n",
    "\n",
    "\"\"\"Upload table data from a CSV file.\"\"\"\n",
    "\n",
    "client = bigquery.Client()\n",
    "dataset_id = \"Homicidios\"\n",
    "table_id = \"Homicidios_2018\"\n",
    "\n",
    "filename = './modified_dataset/homicidios_2018.csv'\n",
    "\n",
    "# [START bigquery_load_from_file]\n",
    "\n",
    "dataset_ref = client.dataset(dataset_id)\n",
    "table_ref = dataset_ref.table(table_id)\n",
    "job_config = bigquery.LoadJobConfig()\n",
    "job_config.source_format = bigquery.SourceFormat.CSV\n",
    "job_config.skip_leading_rows = 1\n",
    "job_config.autodetect = True\n",
    "\n",
    "try:\n",
    "    client.get_dataset(dataset_ref)\n",
    "    dataset_exist = True\n",
    "except NotFound:\n",
    "    dataset_exist = False\n",
    "\n",
    "try:\n",
    "    client.get_table(table_ref)\n",
    "    table_exist = True\n",
    "except NotFound:\n",
    "    table_exist = False\n",
    "\n",
    "\n",
    "# [END bigquery_table_exists]\n",
    "\n",
    "if (dataset_exist == False) & (table_exist == False):\n",
    "    \n",
    "    #Only when running for first time\n",
    "    dataset = bigquery.Dataset(client.dataset(dataset_id))\n",
    "    dataset.location = \"US\"\n",
    "    client.create_dataset(dataset)\n",
    "\n",
    "    \n",
    "    with open(filename, \"rb\") as source_file:\n",
    "        job = client.load_table_from_file(source_file, table_ref, job_config=job_config)\n",
    "\n",
    "    job.result()  # Waits for table load to complete.\n",
    "\n",
    "    print(\"Loaded {} rows into {}:{}.\".format(job.output_rows, dataset_id, table_id))\n",
    "    # [END bigquery_load_from_file]\n",
    "else:\n",
    "    print('The table already exist')"
   ]
  },
  {
   "cell_type": "code",
   "execution_count": 9,
   "metadata": {},
   "outputs": [],
   "source": [
    "#Load data from BigQuery\n",
    "table = client.get_table(table_ref)\n",
    "rows = list(client.list_rows(table))  # API request\n",
    "\n",
    "assert len(rows) == len(homicidios_2018)\n"
   ]
  },
  {
   "cell_type": "code",
   "execution_count": 7,
   "metadata": {},
   "outputs": [
    {
     "name": "stdout",
     "output_type": "stream",
     "text": [
      "4964\n"
     ]
    }
   ],
   "source": [
    "print(len(rows))"
   ]
  }
 ],
 "metadata": {
  "kernelspec": {
   "display_name": "Python 3",
   "language": "python",
   "name": "python3"
  },
  "language_info": {
   "codemirror_mode": {
    "name": "ipython",
    "version": 3
   },
   "file_extension": ".py",
   "mimetype": "text/x-python",
   "name": "python",
   "nbconvert_exporter": "python",
   "pygments_lexer": "ipython3",
   "version": "3.7.3"
  }
 },
 "nbformat": 4,
 "nbformat_minor": 2
}

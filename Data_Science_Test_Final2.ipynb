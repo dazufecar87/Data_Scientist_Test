{
 "cells": [
  {
   "cell_type": "code",
   "execution_count": 1,
   "metadata": {
    "scrolled": true
   },
   "outputs": [],
   "source": [
    "import numpy as np\n",
    "import pandas as pd\n",
    "import matplotlib.pyplot as plt\n",
    "import seaborn as sns"
   ]
  },
  {
   "cell_type": "markdown",
   "metadata": {},
   "source": [
    "# 3. Exploring data for its analysis"
   ]
  },
  {
   "cell_type": "code",
   "execution_count": 2,
   "metadata": {},
   "outputs": [],
   "source": [
    "# Loading cleaned dataset\n",
    "homicidios_2018 = pd.read_csv('./modified_dataset/homicidios_2018.csv')"
   ]
  },
  {
   "cell_type": "markdown",
   "metadata": {},
   "source": [
    "# 3. a. What were the top municipalities with highest quantity of murders by month?"
   ]
  },
  {
   "cell_type": "markdown",
   "metadata": {},
   "source": [
    "The first step to answer this question is to extract from Fecha data the day, month and year and create three new columns for each of those, as follows:"
   ]
  },
  {
   "cell_type": "code",
   "execution_count": 3,
   "metadata": {
    "scrolled": true
   },
   "outputs": [
    {
     "data": {
      "text/html": [
       "<div>\n",
       "<style scoped>\n",
       "    .dataframe tbody tr th:only-of-type {\n",
       "        vertical-align: middle;\n",
       "    }\n",
       "\n",
       "    .dataframe tbody tr th {\n",
       "        vertical-align: top;\n",
       "    }\n",
       "\n",
       "    .dataframe thead th {\n",
       "        text-align: right;\n",
       "    }\n",
       "</style>\n",
       "<table border=\"1\" class=\"dataframe\">\n",
       "  <thead>\n",
       "    <tr style=\"text-align: right;\">\n",
       "      <th></th>\n",
       "      <th>FECHA</th>\n",
       "      <th>DEPARTAMENTO</th>\n",
       "      <th>MUNICIPIO</th>\n",
       "      <th>DIA</th>\n",
       "      <th>HORA</th>\n",
       "      <th>BARRIO</th>\n",
       "      <th>ZONA</th>\n",
       "      <th>CLASE SITIO</th>\n",
       "      <th>ARMA EMPLEADA</th>\n",
       "      <th>MOVIL AGRESOR</th>\n",
       "      <th>...</th>\n",
       "      <th>EDAD</th>\n",
       "      <th>GENERO</th>\n",
       "      <th>ESTADO CIVIL</th>\n",
       "      <th>PAIS NACIMIENTO</th>\n",
       "      <th>CLASE EMPLEADO</th>\n",
       "      <th>ESCOLARIDAD</th>\n",
       "      <th>CODIGO DANE</th>\n",
       "      <th>NUMERO_DIA</th>\n",
       "      <th>MES</th>\n",
       "      <th>ANO</th>\n",
       "    </tr>\n",
       "  </thead>\n",
       "  <tbody>\n",
       "    <tr>\n",
       "      <th>0</th>\n",
       "      <td>01/01/2018 12:00:00 AM</td>\n",
       "      <td>AMAZONAS</td>\n",
       "      <td>LETICIA (CT)</td>\n",
       "      <td>LUNES</td>\n",
       "      <td>9:45:00</td>\n",
       "      <td>ESPERANZA</td>\n",
       "      <td>URBANA</td>\n",
       "      <td>VIAS PUBLICAS</td>\n",
       "      <td>ARMA BLANCA / CORTOPUNZANTE</td>\n",
       "      <td>A PIE</td>\n",
       "      <td>...</td>\n",
       "      <td>16.0</td>\n",
       "      <td>MASCULINO</td>\n",
       "      <td>SOLTERO</td>\n",
       "      <td>BRASIL</td>\n",
       "      <td>EMPLEADO PARTICULAR</td>\n",
       "      <td>SECUNDARIA</td>\n",
       "      <td>91001000.0</td>\n",
       "      <td>1</td>\n",
       "      <td>1</td>\n",
       "      <td>2018</td>\n",
       "    </tr>\n",
       "    <tr>\n",
       "      <th>1</th>\n",
       "      <td>01/01/2018 12:00:00 AM</td>\n",
       "      <td>AMAZONAS</td>\n",
       "      <td>LETICIA (CT)</td>\n",
       "      <td>LUNES</td>\n",
       "      <td>9:45:00</td>\n",
       "      <td>ESPERANZA</td>\n",
       "      <td>URBANA</td>\n",
       "      <td>VIAS PUBLICAS</td>\n",
       "      <td>ARMA BLANCA / CORTOPUNZANTE</td>\n",
       "      <td>A PIE</td>\n",
       "      <td>...</td>\n",
       "      <td>17.0</td>\n",
       "      <td>MASCULINO</td>\n",
       "      <td>SOLTERO</td>\n",
       "      <td>BRASIL</td>\n",
       "      <td>EMPLEADO PARTICULAR</td>\n",
       "      <td>SECUNDARIA</td>\n",
       "      <td>91001000.0</td>\n",
       "      <td>1</td>\n",
       "      <td>1</td>\n",
       "      <td>2018</td>\n",
       "    </tr>\n",
       "    <tr>\n",
       "      <th>2</th>\n",
       "      <td>01/01/2018 12:00:00 AM</td>\n",
       "      <td>ANTIOQUIA</td>\n",
       "      <td>ANDES</td>\n",
       "      <td>LUNES</td>\n",
       "      <td>8:30:00</td>\n",
       "      <td>ALTO DEL CEDRON</td>\n",
       "      <td>RURAL</td>\n",
       "      <td>VIAS PUBLICAS</td>\n",
       "      <td>ARMA DE FUEGO</td>\n",
       "      <td>A PIE</td>\n",
       "      <td>...</td>\n",
       "      <td>26.0</td>\n",
       "      <td>MASCULINO</td>\n",
       "      <td>SOLTERO</td>\n",
       "      <td>COLOMBIA</td>\n",
       "      <td>INDEPENDIENTE</td>\n",
       "      <td>PRIMARIA</td>\n",
       "      <td>5034000.0</td>\n",
       "      <td>1</td>\n",
       "      <td>1</td>\n",
       "      <td>2018</td>\n",
       "    </tr>\n",
       "    <tr>\n",
       "      <th>3</th>\n",
       "      <td>01/01/2018 12:00:00 AM</td>\n",
       "      <td>ANTIOQUIA</td>\n",
       "      <td>ANDES</td>\n",
       "      <td>LUNES</td>\n",
       "      <td>2:30:00</td>\n",
       "      <td>PARQUE PRINCIPAL</td>\n",
       "      <td>RURAL</td>\n",
       "      <td>PARQUES</td>\n",
       "      <td>ARMA BLANCA / CORTOPUNZANTE</td>\n",
       "      <td>A PIE</td>\n",
       "      <td>...</td>\n",
       "      <td>30.0</td>\n",
       "      <td>MASCULINO</td>\n",
       "      <td>SOLTERO</td>\n",
       "      <td>COLOMBIA</td>\n",
       "      <td>AGRICULTOR</td>\n",
       "      <td>PRIMARIA</td>\n",
       "      <td>5034000.0</td>\n",
       "      <td>1</td>\n",
       "      <td>1</td>\n",
       "      <td>2018</td>\n",
       "    </tr>\n",
       "    <tr>\n",
       "      <th>4</th>\n",
       "      <td>01/01/2018 12:00:00 AM</td>\n",
       "      <td>ANTIOQUIA</td>\n",
       "      <td>ANORÍ</td>\n",
       "      <td>LUNES</td>\n",
       "      <td>3:30:00</td>\n",
       "      <td>TENCHE</td>\n",
       "      <td>RURAL</td>\n",
       "      <td>BARES, CANTINAS Y SIMILARES</td>\n",
       "      <td>ARMA BLANCA / CORTOPUNZANTE</td>\n",
       "      <td>A PIE</td>\n",
       "      <td>...</td>\n",
       "      <td>25.0</td>\n",
       "      <td>MASCULINO</td>\n",
       "      <td>UNION LIBRE</td>\n",
       "      <td>COLOMBIA</td>\n",
       "      <td>INDEPENDIENTE</td>\n",
       "      <td>PRIMARIA</td>\n",
       "      <td>5040000.0</td>\n",
       "      <td>1</td>\n",
       "      <td>1</td>\n",
       "      <td>2018</td>\n",
       "    </tr>\n",
       "  </tbody>\n",
       "</table>\n",
       "<p>5 rows × 21 columns</p>\n",
       "</div>"
      ],
      "text/plain": [
       "                    FECHA DEPARTAMENTO     MUNICIPIO    DIA     HORA  \\\n",
       "0  01/01/2018 12:00:00 AM     AMAZONAS  LETICIA (CT)  LUNES  9:45:00   \n",
       "1  01/01/2018 12:00:00 AM     AMAZONAS  LETICIA (CT)  LUNES  9:45:00   \n",
       "2  01/01/2018 12:00:00 AM    ANTIOQUIA         ANDES  LUNES  8:30:00   \n",
       "3  01/01/2018 12:00:00 AM    ANTIOQUIA         ANDES  LUNES  2:30:00   \n",
       "4  01/01/2018 12:00:00 AM    ANTIOQUIA         ANORÍ  LUNES  3:30:00   \n",
       "\n",
       "             BARRIO    ZONA                  CLASE SITIO  \\\n",
       "0         ESPERANZA  URBANA                VIAS PUBLICAS   \n",
       "1         ESPERANZA  URBANA                VIAS PUBLICAS   \n",
       "2   ALTO DEL CEDRON   RURAL                VIAS PUBLICAS   \n",
       "3  PARQUE PRINCIPAL   RURAL                      PARQUES   \n",
       "4            TENCHE   RURAL  BARES, CANTINAS Y SIMILARES   \n",
       "\n",
       "                 ARMA EMPLEADA MOVIL AGRESOR  ...  EDAD     GENERO  \\\n",
       "0  ARMA BLANCA / CORTOPUNZANTE         A PIE  ...  16.0  MASCULINO   \n",
       "1  ARMA BLANCA / CORTOPUNZANTE         A PIE  ...  17.0  MASCULINO   \n",
       "2                ARMA DE FUEGO         A PIE  ...  26.0  MASCULINO   \n",
       "3  ARMA BLANCA / CORTOPUNZANTE         A PIE  ...  30.0  MASCULINO   \n",
       "4  ARMA BLANCA / CORTOPUNZANTE         A PIE  ...  25.0  MASCULINO   \n",
       "\n",
       "  ESTADO CIVIL PAIS NACIMIENTO       CLASE EMPLEADO ESCOLARIDAD CODIGO DANE  \\\n",
       "0      SOLTERO          BRASIL  EMPLEADO PARTICULAR  SECUNDARIA  91001000.0   \n",
       "1      SOLTERO          BRASIL  EMPLEADO PARTICULAR  SECUNDARIA  91001000.0   \n",
       "2      SOLTERO        COLOMBIA        INDEPENDIENTE    PRIMARIA   5034000.0   \n",
       "3      SOLTERO        COLOMBIA           AGRICULTOR    PRIMARIA   5034000.0   \n",
       "4  UNION LIBRE        COLOMBIA        INDEPENDIENTE    PRIMARIA   5040000.0   \n",
       "\n",
       "   NUMERO_DIA  MES   ANO  \n",
       "0           1    1  2018  \n",
       "1           1    1  2018  \n",
       "2           1    1  2018  \n",
       "3           1    1  2018  \n",
       "4           1    1  2018  \n",
       "\n",
       "[5 rows x 21 columns]"
      ]
     },
     "execution_count": 3,
     "metadata": {},
     "output_type": "execute_result"
    }
   ],
   "source": [
    "homicidios_2018['NUMERO_DIA'] = homicidios_2018.FECHA.str.split('/').str[0].astype(int)\n",
    "homicidios_2018['MES'] = (homicidios_2018.FECHA.str.split('/').str[1]).astype(int)\n",
    "homicidios_2018['ANO'] = (homicidios_2018.FECHA.str.extract('/(.+?) '))[0].str.split('/').str[1].astype(int)\n",
    "homicidios_2018.head()"
   ]
  },
  {
   "cell_type": "markdown",
   "metadata": {},
   "source": [
    "'top_month' variable will allow me to save the top 5 cities with highest number of murders by month"
   ]
  },
  {
   "cell_type": "code",
   "execution_count": 4,
   "metadata": {
    "scrolled": true
   },
   "outputs": [],
   "source": [
    "top_month = {}\n",
    "for elem in range(12):\n",
    "    top_month[(elem)] = homicidios_2018[homicidios_2018['MES'] == (elem+1)]['MUNICIPIO'].value_counts().head()"
   ]
  },
  {
   "cell_type": "markdown",
   "metadata": {},
   "source": [
    "Below, I have created a way to plot the top 5 municipalities with highest quantity of homicides."
   ]
  },
  {
   "cell_type": "code",
   "execution_count": 5,
   "metadata": {
    "scrolled": true
   },
   "outputs": [
    {
     "data": {
      "image/png": "[encoded data removed]",
      "text/plain": [
       "<Figure size 432x288 with 1 Axes>"
      ]
     },
     "metadata": {
      "needs_background": "light"
     },
     "output_type": "display_data"
    },
    {
     "data": {
      "image/png": "[encoded data removed]",
      "text/plain": [
       "<Figure size 432x288 with 1 Axes>"
      ]
     },
     "metadata": {
      "needs_background": "light"
     },
     "output_type": "display_data"
    },
    {
     "data": {
      "image/png": "[encoded data removed]",
      "text/plain": [
       "<Figure size 432x288 with 1 Axes>"
      ]
     },
     "metadata": {
      "needs_background": "light"
     },
     "output_type": "display_data"
    },
    {
     "data": {
      "image/png": "[encoded data removed]",
      "text/plain": [
       "<Figure size 432x288 with 1 Axes>"
      ]
     },
     "metadata": {
      "needs_background": "light"
     },
     "output_type": "display_data"
    },
    {
     "data": {
      "image/png": "[encoded data removed]",
      "text/plain": [
       "<Figure size 432x288 with 1 Axes>"
      ]
     },
     "metadata": {
      "needs_background": "light"
     },
     "output_type": "display_data"
    },
    {
     "data": {
      "image/png": "[encoded data removed]",
      "text/plain": [
       "<Figure size 432x288 with 1 Axes>"
      ]
     },
     "metadata": {
      "needs_background": "light"
     },
     "output_type": "display_data"
    },
    {
     "data": {
      "image/png": "[encoded data removed]",
      "text/plain": [
       "<Figure size 432x288 with 1 Axes>"
      ]
     },
     "metadata": {
      "needs_background": "light"
     },
     "output_type": "display_data"
    },
    {
     "data": {
      "image/png": "[encoded data removed]",
      "text/plain": [
       "<Figure size 432x288 with 1 Axes>"
      ]
     },
     "metadata": {
      "needs_background": "light"
     },
     "output_type": "display_data"
    },
    {
     "data": {
      "image/png": "[encoded data removed]",
      "text/plain": [
       "<Figure size 432x288 with 1 Axes>"
      ]
     },
     "metadata": {
      "needs_background": "light"
     },
     "output_type": "display_data"
    },
    {
     "data": {
      "image/png": "[encoded data removed]",
      "text/plain": [
       "<Figure size 432x288 with 1 Axes>"
      ]
     },
     "metadata": {
      "needs_background": "light"
     },
     "output_type": "display_data"
    },
    {
     "data": {
      "image/png": "[encoded data removed]",
      "text/plain": [
       "<Figure size 432x288 with 1 Axes>"
      ]
     },
     "metadata": {
      "needs_background": "light"
     },
     "output_type": "display_data"
    },
    {
     "data": {
      "image/png": "[encoded data removed]",
      "text/plain": [
       "<Figure size 432x288 with 1 Axes>"
      ]
     },
     "metadata": {
      "needs_background": "light"
     },
     "output_type": "display_data"
    }
   ],
   "source": [
    "num_month = 0\n",
    "MONTHS = ['Enero','Febrero','Marzo','Abril','Mayo','Junio','Julio','Agosto','Septiembre','Octubre','Noviembre','Diciembre']\n",
    "\n",
    "for column in range(len(MONTHS)):\n",
    "    plt.figure()\n",
    "    plt.barh(list(top_month[num_month].index),top_month[num_month])\n",
    "    plt.gca().invert_yaxis()\n",
    "    plt.title(str(MONTHS[num_month])+ ' 2018')\n",
    "    plt.xlabel('Cantidad de Homicidios')\n",
    "    plt.grid(True)\n",
    "    for i, v in enumerate(top_month[num_month]):\n",
    "        plt.text(v + 2, i, str(v), color='blue', fontweight='bold')\n",
    "    num_month += 1\n",
    "\n",
    "plt.show()"
   ]
  },
  {
   "cell_type": "markdown",
   "metadata": {},
   "source": [
    "## Cali is the top city for 9 months while Bogota leads for the other 3 months."
   ]
  },
  {
   "cell_type": "markdown",
   "metadata": {},
   "source": [
    "# 3. b. For Bogota, what neighborhoods reported greater amount of murders between 6 at night and 12 midnight.\n"
   ]
  },
  {
   "cell_type": "code",
   "execution_count": 6,
   "metadata": {
    "scrolled": true
   },
   "outputs": [
    {
     "data": {
      "text/plain": [
       "LA FAVORITA E-14          9\n",
       "CARACOLI E-19             6\n",
       "ARBORIZADORA ALTA E-19    5\n",
       "LAS MARGARITAS E-8        5\n",
       "GRAN BRITALIA E-8         5\n",
       "Name: BARRIO, dtype: int64"
      ]
     },
     "execution_count": 6,
     "metadata": {},
     "output_type": "execute_result"
    }
   ],
   "source": [
    "homicidios_2018[homicidios_2018['MUNICIPIO'] == 'BOGOTÁ D.C. (CT)']['BARRIO'].value_counts().head()"
   ]
  },
  {
   "cell_type": "code",
   "execution_count": 7,
   "metadata": {
    "scrolled": true
   },
   "outputs": [
    {
     "data": {
      "text/plain": [
       "(431,)"
      ]
     },
     "execution_count": 7,
     "metadata": {},
     "output_type": "execute_result"
    }
   ],
   "source": [
    "homicidios_2018[homicidios_2018['MUNICIPIO'] == 'BOGOTÁ D.C. (CT)']['BARRIO'].shape"
   ]
  },
  {
   "cell_type": "code",
   "execution_count": 8,
   "metadata": {
    "scrolled": true
   },
   "outputs": [
    {
     "data": {
      "text/plain": [
       "LA FAVORITA E-14          9\n",
       "CARACOLI E-19             6\n",
       "ARBORIZADORA ALTA E-19    5\n",
       "LAS MARGARITAS E-8        5\n",
       "GRAN BRITALIA E-8         5\n",
       "Name: BARRIO, dtype: int64"
      ]
     },
     "execution_count": 8,
     "metadata": {},
     "output_type": "execute_result"
    }
   ],
   "source": [
    "homicidios_2018[homicidios_2018['MUNICIPIO'] == 'BOGOTÁ D.C. (CT)']['BARRIO'].value_counts().head()"
   ]
  },
  {
   "cell_type": "markdown",
   "metadata": {},
   "source": [
    "Creating columns for a much easier analysis of the timeframe"
   ]
  },
  {
   "cell_type": "code",
   "execution_count": 9,
   "metadata": {
    "scrolled": true
   },
   "outputs": [
    {
     "data": {
      "text/html": [
       "<div>\n",
       "<style scoped>\n",
       "    .dataframe tbody tr th:only-of-type {\n",
       "        vertical-align: middle;\n",
       "    }\n",
       "\n",
       "    .dataframe tbody tr th {\n",
       "        vertical-align: top;\n",
       "    }\n",
       "\n",
       "    .dataframe thead th {\n",
       "        text-align: right;\n",
       "    }\n",
       "</style>\n",
       "<table border=\"1\" class=\"dataframe\">\n",
       "  <thead>\n",
       "    <tr style=\"text-align: right;\">\n",
       "      <th></th>\n",
       "      <th>FECHA</th>\n",
       "      <th>DEPARTAMENTO</th>\n",
       "      <th>MUNICIPIO</th>\n",
       "      <th>DIA</th>\n",
       "      <th>HORA</th>\n",
       "      <th>BARRIO</th>\n",
       "      <th>ZONA</th>\n",
       "      <th>CLASE SITIO</th>\n",
       "      <th>ARMA EMPLEADA</th>\n",
       "      <th>MOVIL AGRESOR</th>\n",
       "      <th>...</th>\n",
       "      <th>ESTADO CIVIL</th>\n",
       "      <th>PAIS NACIMIENTO</th>\n",
       "      <th>CLASE EMPLEADO</th>\n",
       "      <th>ESCOLARIDAD</th>\n",
       "      <th>CODIGO DANE</th>\n",
       "      <th>NUMERO_DIA</th>\n",
       "      <th>MES</th>\n",
       "      <th>ANO</th>\n",
       "      <th>HORA_</th>\n",
       "      <th>MINUTOS_</th>\n",
       "    </tr>\n",
       "  </thead>\n",
       "  <tbody>\n",
       "    <tr>\n",
       "      <th>0</th>\n",
       "      <td>01/01/2018 12:00:00 AM</td>\n",
       "      <td>AMAZONAS</td>\n",
       "      <td>LETICIA (CT)</td>\n",
       "      <td>LUNES</td>\n",
       "      <td>9:45:00</td>\n",
       "      <td>ESPERANZA</td>\n",
       "      <td>URBANA</td>\n",
       "      <td>VIAS PUBLICAS</td>\n",
       "      <td>ARMA BLANCA / CORTOPUNZANTE</td>\n",
       "      <td>A PIE</td>\n",
       "      <td>...</td>\n",
       "      <td>SOLTERO</td>\n",
       "      <td>BRASIL</td>\n",
       "      <td>EMPLEADO PARTICULAR</td>\n",
       "      <td>SECUNDARIA</td>\n",
       "      <td>91001000.0</td>\n",
       "      <td>1</td>\n",
       "      <td>1</td>\n",
       "      <td>2018</td>\n",
       "      <td>9</td>\n",
       "      <td>45</td>\n",
       "    </tr>\n",
       "    <tr>\n",
       "      <th>1</th>\n",
       "      <td>01/01/2018 12:00:00 AM</td>\n",
       "      <td>AMAZONAS</td>\n",
       "      <td>LETICIA (CT)</td>\n",
       "      <td>LUNES</td>\n",
       "      <td>9:45:00</td>\n",
       "      <td>ESPERANZA</td>\n",
       "      <td>URBANA</td>\n",
       "      <td>VIAS PUBLICAS</td>\n",
       "      <td>ARMA BLANCA / CORTOPUNZANTE</td>\n",
       "      <td>A PIE</td>\n",
       "      <td>...</td>\n",
       "      <td>SOLTERO</td>\n",
       "      <td>BRASIL</td>\n",
       "      <td>EMPLEADO PARTICULAR</td>\n",
       "      <td>SECUNDARIA</td>\n",
       "      <td>91001000.0</td>\n",
       "      <td>1</td>\n",
       "      <td>1</td>\n",
       "      <td>2018</td>\n",
       "      <td>9</td>\n",
       "      <td>45</td>\n",
       "    </tr>\n",
       "    <tr>\n",
       "      <th>2</th>\n",
       "      <td>01/01/2018 12:00:00 AM</td>\n",
       "      <td>ANTIOQUIA</td>\n",
       "      <td>ANDES</td>\n",
       "      <td>LUNES</td>\n",
       "      <td>8:30:00</td>\n",
       "      <td>ALTO DEL CEDRON</td>\n",
       "      <td>RURAL</td>\n",
       "      <td>VIAS PUBLICAS</td>\n",
       "      <td>ARMA DE FUEGO</td>\n",
       "      <td>A PIE</td>\n",
       "      <td>...</td>\n",
       "      <td>SOLTERO</td>\n",
       "      <td>COLOMBIA</td>\n",
       "      <td>INDEPENDIENTE</td>\n",
       "      <td>PRIMARIA</td>\n",
       "      <td>5034000.0</td>\n",
       "      <td>1</td>\n",
       "      <td>1</td>\n",
       "      <td>2018</td>\n",
       "      <td>8</td>\n",
       "      <td>30</td>\n",
       "    </tr>\n",
       "    <tr>\n",
       "      <th>3</th>\n",
       "      <td>01/01/2018 12:00:00 AM</td>\n",
       "      <td>ANTIOQUIA</td>\n",
       "      <td>ANDES</td>\n",
       "      <td>LUNES</td>\n",
       "      <td>2:30:00</td>\n",
       "      <td>PARQUE PRINCIPAL</td>\n",
       "      <td>RURAL</td>\n",
       "      <td>PARQUES</td>\n",
       "      <td>ARMA BLANCA / CORTOPUNZANTE</td>\n",
       "      <td>A PIE</td>\n",
       "      <td>...</td>\n",
       "      <td>SOLTERO</td>\n",
       "      <td>COLOMBIA</td>\n",
       "      <td>AGRICULTOR</td>\n",
       "      <td>PRIMARIA</td>\n",
       "      <td>5034000.0</td>\n",
       "      <td>1</td>\n",
       "      <td>1</td>\n",
       "      <td>2018</td>\n",
       "      <td>2</td>\n",
       "      <td>30</td>\n",
       "    </tr>\n",
       "    <tr>\n",
       "      <th>4</th>\n",
       "      <td>01/01/2018 12:00:00 AM</td>\n",
       "      <td>ANTIOQUIA</td>\n",
       "      <td>ANORÍ</td>\n",
       "      <td>LUNES</td>\n",
       "      <td>3:30:00</td>\n",
       "      <td>TENCHE</td>\n",
       "      <td>RURAL</td>\n",
       "      <td>BARES, CANTINAS Y SIMILARES</td>\n",
       "      <td>ARMA BLANCA / CORTOPUNZANTE</td>\n",
       "      <td>A PIE</td>\n",
       "      <td>...</td>\n",
       "      <td>UNION LIBRE</td>\n",
       "      <td>COLOMBIA</td>\n",
       "      <td>INDEPENDIENTE</td>\n",
       "      <td>PRIMARIA</td>\n",
       "      <td>5040000.0</td>\n",
       "      <td>1</td>\n",
       "      <td>1</td>\n",
       "      <td>2018</td>\n",
       "      <td>3</td>\n",
       "      <td>30</td>\n",
       "    </tr>\n",
       "  </tbody>\n",
       "</table>\n",
       "<p>5 rows × 23 columns</p>\n",
       "</div>"
      ],
      "text/plain": [
       "                    FECHA DEPARTAMENTO     MUNICIPIO    DIA     HORA  \\\n",
       "0  01/01/2018 12:00:00 AM     AMAZONAS  LETICIA (CT)  LUNES  9:45:00   \n",
       "1  01/01/2018 12:00:00 AM     AMAZONAS  LETICIA (CT)  LUNES  9:45:00   \n",
       "2  01/01/2018 12:00:00 AM    ANTIOQUIA         ANDES  LUNES  8:30:00   \n",
       "3  01/01/2018 12:00:00 AM    ANTIOQUIA         ANDES  LUNES  2:30:00   \n",
       "4  01/01/2018 12:00:00 AM    ANTIOQUIA         ANORÍ  LUNES  3:30:00   \n",
       "\n",
       "             BARRIO    ZONA                  CLASE SITIO  \\\n",
       "0         ESPERANZA  URBANA                VIAS PUBLICAS   \n",
       "1         ESPERANZA  URBANA                VIAS PUBLICAS   \n",
       "2   ALTO DEL CEDRON   RURAL                VIAS PUBLICAS   \n",
       "3  PARQUE PRINCIPAL   RURAL                      PARQUES   \n",
       "4            TENCHE   RURAL  BARES, CANTINAS Y SIMILARES   \n",
       "\n",
       "                 ARMA EMPLEADA MOVIL AGRESOR  ... ESTADO CIVIL  \\\n",
       "0  ARMA BLANCA / CORTOPUNZANTE         A PIE  ...      SOLTERO   \n",
       "1  ARMA BLANCA / CORTOPUNZANTE         A PIE  ...      SOLTERO   \n",
       "2                ARMA DE FUEGO         A PIE  ...      SOLTERO   \n",
       "3  ARMA BLANCA / CORTOPUNZANTE         A PIE  ...      SOLTERO   \n",
       "4  ARMA BLANCA / CORTOPUNZANTE         A PIE  ...  UNION LIBRE   \n",
       "\n",
       "   PAIS NACIMIENTO       CLASE EMPLEADO ESCOLARIDAD CODIGO DANE NUMERO_DIA  \\\n",
       "0           BRASIL  EMPLEADO PARTICULAR  SECUNDARIA  91001000.0          1   \n",
       "1           BRASIL  EMPLEADO PARTICULAR  SECUNDARIA  91001000.0          1   \n",
       "2         COLOMBIA        INDEPENDIENTE    PRIMARIA   5034000.0          1   \n",
       "3         COLOMBIA           AGRICULTOR    PRIMARIA   5034000.0          1   \n",
       "4         COLOMBIA        INDEPENDIENTE    PRIMARIA   5040000.0          1   \n",
       "\n",
       "  MES   ANO  HORA_  MINUTOS_  \n",
       "0   1  2018      9        45  \n",
       "1   1  2018      9        45  \n",
       "2   1  2018      8        30  \n",
       "3   1  2018      2        30  \n",
       "4   1  2018      3        30  \n",
       "\n",
       "[5 rows x 23 columns]"
      ]
     },
     "execution_count": 9,
     "metadata": {},
     "output_type": "execute_result"
    }
   ],
   "source": [
    "homicidios_2018['HORA_'] = homicidios_2018.HORA.str.split(':').str[0].astype(int)\n",
    "homicidios_2018['MINUTOS_'] = homicidios_2018.HORA.str.split(':').str[1].astype(int)\n",
    "homicidios_2018.head()"
   ]
  },
  {
   "cell_type": "code",
   "execution_count": 10,
   "metadata": {
    "scrolled": true
   },
   "outputs": [
    {
     "name": "stdout",
     "output_type": "stream",
     "text": [
      "(1921, 23)\n"
     ]
    },
    {
     "data": {
      "text/plain": [
       "LA FAVORITA E-14          4\n",
       "GRAN BRITALIA E-8         3\n",
       "BARRANQUILLITA E-5        3\n",
       "DIANA TURBAY E-18         3\n",
       "ARBORIZADORA ALTA E-19    3\n",
       "Name: BARRIO, dtype: int64"
      ]
     },
     "execution_count": 10,
     "metadata": {},
     "output_type": "execute_result"
    }
   ],
   "source": [
    "homicidios_2018_b = homicidios_2018[(homicidios_2018['HORA_'] > 17) | ((homicidios_2018['HORA_'] == 0) & (homicidios_2018['MINUTOS_'] == 0))]\n",
    "print(homicidios_2018_b.shape)\n",
    "homicidios_2018_b[homicidios_2018_b['MUNICIPIO'] == 'BOGOTÁ D.C. (CT)']['BARRIO'].value_counts().head()"
   ]
  },
  {
   "cell_type": "markdown",
   "metadata": {},
   "source": [
    "## Between 6pm and 12 midnight the top five neighborhoods for quantity of murders were LA FAVORITA E-14 with 4 murders, follwed by DIANA TURBAY E-18, GRAN BRITALIA E-8, ARBORIZADORA ALTA E-19 and BARRANQUILLITA E-5 with 3 murders each in Bogota in 2018"
   ]
  },
  {
   "cell_type": "markdown",
   "metadata": {},
   "source": [
    "# Other data insights"
   ]
  },
  {
   "cell_type": "code",
   "execution_count": 11,
   "metadata": {
    "scrolled": true
   },
   "outputs": [
    {
     "data": {
      "text/html": [
       "<div>\n",
       "<style scoped>\n",
       "    .dataframe tbody tr th:only-of-type {\n",
       "        vertical-align: middle;\n",
       "    }\n",
       "\n",
       "    .dataframe tbody tr th {\n",
       "        vertical-align: top;\n",
       "    }\n",
       "\n",
       "    .dataframe thead th {\n",
       "        text-align: right;\n",
       "    }\n",
       "</style>\n",
       "<table border=\"1\" class=\"dataframe\">\n",
       "  <thead>\n",
       "    <tr style=\"text-align: right;\">\n",
       "      <th></th>\n",
       "      <th>FECHA</th>\n",
       "      <th>DEPARTAMENTO</th>\n",
       "      <th>MUNICIPIO</th>\n",
       "      <th>DIA</th>\n",
       "      <th>HORA</th>\n",
       "      <th>BARRIO</th>\n",
       "      <th>ZONA</th>\n",
       "      <th>CLASE SITIO</th>\n",
       "      <th>ARMA EMPLEADA</th>\n",
       "      <th>MOVIL AGRESOR</th>\n",
       "      <th>...</th>\n",
       "      <th>PAIS NACIMIENTO</th>\n",
       "      <th>CLASE EMPLEADO</th>\n",
       "      <th>ESCOLARIDAD</th>\n",
       "      <th>CODIGO DANE</th>\n",
       "      <th>NUMERO_DIA</th>\n",
       "      <th>MES</th>\n",
       "      <th>ANO</th>\n",
       "      <th>HORA_</th>\n",
       "      <th>MINUTOS_</th>\n",
       "      <th>class</th>\n",
       "    </tr>\n",
       "  </thead>\n",
       "  <tbody>\n",
       "    <tr>\n",
       "      <th>0</th>\n",
       "      <td>01/01/2018 12:00:00 AM</td>\n",
       "      <td>AMAZONAS</td>\n",
       "      <td>LETICIA (CT)</td>\n",
       "      <td>LUNES</td>\n",
       "      <td>9:45:00</td>\n",
       "      <td>ESPERANZA</td>\n",
       "      <td>URBANA</td>\n",
       "      <td>VIAS PUBLICAS</td>\n",
       "      <td>ARMA BLANCA / CORTOPUNZANTE</td>\n",
       "      <td>A PIE</td>\n",
       "      <td>...</td>\n",
       "      <td>BRASIL</td>\n",
       "      <td>EMPLEADO PARTICULAR</td>\n",
       "      <td>SECUNDARIA</td>\n",
       "      <td>91001000.0</td>\n",
       "      <td>1</td>\n",
       "      <td>1</td>\n",
       "      <td>2018</td>\n",
       "      <td>9</td>\n",
       "      <td>45</td>\n",
       "      <td>1</td>\n",
       "    </tr>\n",
       "    <tr>\n",
       "      <th>1</th>\n",
       "      <td>01/01/2018 12:00:00 AM</td>\n",
       "      <td>AMAZONAS</td>\n",
       "      <td>LETICIA (CT)</td>\n",
       "      <td>LUNES</td>\n",
       "      <td>9:45:00</td>\n",
       "      <td>ESPERANZA</td>\n",
       "      <td>URBANA</td>\n",
       "      <td>VIAS PUBLICAS</td>\n",
       "      <td>ARMA BLANCA / CORTOPUNZANTE</td>\n",
       "      <td>A PIE</td>\n",
       "      <td>...</td>\n",
       "      <td>BRASIL</td>\n",
       "      <td>EMPLEADO PARTICULAR</td>\n",
       "      <td>SECUNDARIA</td>\n",
       "      <td>91001000.0</td>\n",
       "      <td>1</td>\n",
       "      <td>1</td>\n",
       "      <td>2018</td>\n",
       "      <td>9</td>\n",
       "      <td>45</td>\n",
       "      <td>1</td>\n",
       "    </tr>\n",
       "    <tr>\n",
       "      <th>2</th>\n",
       "      <td>01/01/2018 12:00:00 AM</td>\n",
       "      <td>ANTIOQUIA</td>\n",
       "      <td>ANDES</td>\n",
       "      <td>LUNES</td>\n",
       "      <td>8:30:00</td>\n",
       "      <td>ALTO DEL CEDRON</td>\n",
       "      <td>RURAL</td>\n",
       "      <td>VIAS PUBLICAS</td>\n",
       "      <td>ARMA DE FUEGO</td>\n",
       "      <td>A PIE</td>\n",
       "      <td>...</td>\n",
       "      <td>COLOMBIA</td>\n",
       "      <td>INDEPENDIENTE</td>\n",
       "      <td>PRIMARIA</td>\n",
       "      <td>5034000.0</td>\n",
       "      <td>1</td>\n",
       "      <td>1</td>\n",
       "      <td>2018</td>\n",
       "      <td>8</td>\n",
       "      <td>30</td>\n",
       "      <td>1</td>\n",
       "    </tr>\n",
       "    <tr>\n",
       "      <th>3</th>\n",
       "      <td>01/01/2018 12:00:00 AM</td>\n",
       "      <td>ANTIOQUIA</td>\n",
       "      <td>ANDES</td>\n",
       "      <td>LUNES</td>\n",
       "      <td>2:30:00</td>\n",
       "      <td>PARQUE PRINCIPAL</td>\n",
       "      <td>RURAL</td>\n",
       "      <td>PARQUES</td>\n",
       "      <td>ARMA BLANCA / CORTOPUNZANTE</td>\n",
       "      <td>A PIE</td>\n",
       "      <td>...</td>\n",
       "      <td>COLOMBIA</td>\n",
       "      <td>AGRICULTOR</td>\n",
       "      <td>PRIMARIA</td>\n",
       "      <td>5034000.0</td>\n",
       "      <td>1</td>\n",
       "      <td>1</td>\n",
       "      <td>2018</td>\n",
       "      <td>2</td>\n",
       "      <td>30</td>\n",
       "      <td>0</td>\n",
       "    </tr>\n",
       "    <tr>\n",
       "      <th>4</th>\n",
       "      <td>01/01/2018 12:00:00 AM</td>\n",
       "      <td>ANTIOQUIA</td>\n",
       "      <td>ANORÍ</td>\n",
       "      <td>LUNES</td>\n",
       "      <td>3:30:00</td>\n",
       "      <td>TENCHE</td>\n",
       "      <td>RURAL</td>\n",
       "      <td>BARES, CANTINAS Y SIMILARES</td>\n",
       "      <td>ARMA BLANCA / CORTOPUNZANTE</td>\n",
       "      <td>A PIE</td>\n",
       "      <td>...</td>\n",
       "      <td>COLOMBIA</td>\n",
       "      <td>INDEPENDIENTE</td>\n",
       "      <td>PRIMARIA</td>\n",
       "      <td>5040000.0</td>\n",
       "      <td>1</td>\n",
       "      <td>1</td>\n",
       "      <td>2018</td>\n",
       "      <td>3</td>\n",
       "      <td>30</td>\n",
       "      <td>0</td>\n",
       "    </tr>\n",
       "  </tbody>\n",
       "</table>\n",
       "<p>5 rows × 24 columns</p>\n",
       "</div>"
      ],
      "text/plain": [
       "                    FECHA DEPARTAMENTO     MUNICIPIO    DIA     HORA  \\\n",
       "0  01/01/2018 12:00:00 AM     AMAZONAS  LETICIA (CT)  LUNES  9:45:00   \n",
       "1  01/01/2018 12:00:00 AM     AMAZONAS  LETICIA (CT)  LUNES  9:45:00   \n",
       "2  01/01/2018 12:00:00 AM    ANTIOQUIA         ANDES  LUNES  8:30:00   \n",
       "3  01/01/2018 12:00:00 AM    ANTIOQUIA         ANDES  LUNES  2:30:00   \n",
       "4  01/01/2018 12:00:00 AM    ANTIOQUIA         ANORÍ  LUNES  3:30:00   \n",
       "\n",
       "             BARRIO    ZONA                  CLASE SITIO  \\\n",
       "0         ESPERANZA  URBANA                VIAS PUBLICAS   \n",
       "1         ESPERANZA  URBANA                VIAS PUBLICAS   \n",
       "2   ALTO DEL CEDRON   RURAL                VIAS PUBLICAS   \n",
       "3  PARQUE PRINCIPAL   RURAL                      PARQUES   \n",
       "4            TENCHE   RURAL  BARES, CANTINAS Y SIMILARES   \n",
       "\n",
       "                 ARMA EMPLEADA MOVIL AGRESOR  ... PAIS NACIMIENTO  \\\n",
       "0  ARMA BLANCA / CORTOPUNZANTE         A PIE  ...          BRASIL   \n",
       "1  ARMA BLANCA / CORTOPUNZANTE         A PIE  ...          BRASIL   \n",
       "2                ARMA DE FUEGO         A PIE  ...        COLOMBIA   \n",
       "3  ARMA BLANCA / CORTOPUNZANTE         A PIE  ...        COLOMBIA   \n",
       "4  ARMA BLANCA / CORTOPUNZANTE         A PIE  ...        COLOMBIA   \n",
       "\n",
       "        CLASE EMPLEADO ESCOLARIDAD CODIGO DANE NUMERO_DIA MES   ANO  HORA_  \\\n",
       "0  EMPLEADO PARTICULAR  SECUNDARIA  91001000.0          1   1  2018      9   \n",
       "1  EMPLEADO PARTICULAR  SECUNDARIA  91001000.0          1   1  2018      9   \n",
       "2        INDEPENDIENTE    PRIMARIA   5034000.0          1   1  2018      8   \n",
       "3           AGRICULTOR    PRIMARIA   5034000.0          1   1  2018      2   \n",
       "4        INDEPENDIENTE    PRIMARIA   5040000.0          1   1  2018      3   \n",
       "\n",
       "   MINUTOS_  class  \n",
       "0        45      1  \n",
       "1        45      1  \n",
       "2        30      1  \n",
       "3        30      0  \n",
       "4        30      0  \n",
       "\n",
       "[5 rows x 24 columns]"
      ]
     },
     "execution_count": 11,
     "metadata": {},
     "output_type": "execute_result"
    }
   ],
   "source": [
    "clase = pd.cut(homicidios_2018['HORA_'],4).cat.codes.rename('class')\n",
    "Z2 = pd.concat([homicidios_2018,clase],axis=1)\n",
    "Z2.head()"
   ]
  },
  {
   "cell_type": "code",
   "execution_count": 12,
   "metadata": {
    "scrolled": false
   },
   "outputs": [
    {
     "data": {
      "text/plain": [
       "(array([599., 251., 315., 420., 349., 383., 544., 450., 740., 913.]),\n",
       " array([ 0. ,  2.3,  4.6,  6.9,  9.2, 11.5, 13.8, 16.1, 18.4, 20.7, 23. ]),\n",
       " <a list of 10 Patch objects>)"
      ]
     },
     "execution_count": 12,
     "metadata": {},
     "output_type": "execute_result"
    },
    {
     "data": {
      "image/png": "[encoded data removed]",
      "text/plain": [
       "<Figure size 432x288 with 1 Axes>"
      ]
     },
     "metadata": {
      "needs_background": "light"
     },
     "output_type": "display_data"
    }
   ],
   "source": [
    "plt.hist(Z2['HORA_'])"
   ]
  },
  {
   "cell_type": "markdown",
   "metadata": {},
   "source": [
    "## From this histogram, it can be seen that the highest quantity of murders are committed from 18:00 and around 02:00  in Colombia in 2018"
   ]
  },
  {
   "cell_type": "code",
   "execution_count": 13,
   "metadata": {
    "scrolled": true
   },
   "outputs": [
    {
     "data": {
      "text/plain": [
       "01/01/2018 12:00:00 AM    82\n",
       "08/07/2018 12:00:00 AM    72\n",
       "08/12/2018 12:00:00 AM    67\n",
       "08/04/2018 12:00:00 AM    67\n",
       "12/08/2018 12:00:00 AM    65\n",
       "Name: FECHA, dtype: int64"
      ]
     },
     "execution_count": 13,
     "metadata": {},
     "output_type": "execute_result"
    }
   ],
   "source": [
    "(homicidios_2018['FECHA']).value_counts().head()"
   ]
  },
  {
   "cell_type": "markdown",
   "metadata": {},
   "source": [
    "# 3. c. What other insights can you extract from this dataset?"
   ]
  },
  {
   "cell_type": "markdown",
   "metadata": {},
   "source": [
    "### To answer this, I first asked myself a question I wanted to find in the dataset, then I found myself a bit intrigued by the idea if there were more homicides in no working days compared to working days and how they compared each other considering the number of working days vs no working ones. Let's see how I worked it out all the way along until finding an answer to these."
   ]
  },
  {
   "cell_type": "markdown",
   "metadata": {},
   "source": [
    "In the coding developed below, I will create a new column called 'Tipo de dia', which gives us information if the days of the homicide is a working or no working day, this is done by considering the colombian public holidays in 2018."
   ]
  },
  {
   "cell_type": "code",
   "execution_count": 14,
   "metadata": {
    "scrolled": true
   },
   "outputs": [],
   "source": [
    "def tipo_dia(df,__DIAS_FESTIVOS_2018):\n",
    "    for index, row in df.iterrows():\n",
    "        if row['DIA'] == 'SABADO':\n",
    "            df.loc[[index],['TIPO DIA']] = 'NO LABORAL'\n",
    "        elif row['DIA'] == 'DOMINGO':\n",
    "            df.loc[[index],['TIPO DIA']] = 'NO LABORAL'\n",
    "        else:\n",
    "            found = 0\n",
    "            count = 0\n",
    "            while ((count < (len(__DIAS_FESTIVOS_2018))) & (found == 0)):\n",
    "                if row['FECHA'] == __DIAS_FESTIVOS_2018[count]:\n",
    "                    df.loc[[index],['TIPO DIA']] = 'NO LABORAL'\n",
    "                    found = 1\n",
    "                count += 1\n",
    "            if found == 0:\n",
    "                df.loc[[index],['TIPO DIA']] = 'LABORAL'\n",
    "\n",
    "\n",
    "__DIAS_FESTIVOS_2018 = (['01/01/2018 12:00:00 AM','08/01/2018 12:00:00 AM','19/03/2018 12:00:00 AM','29/03/2018 12:00:00 AM',\n",
    "                       '30/03/2018 12:00:00 AM','01/04/2018 12:00:00 AM','14/04/2018 12:00:00 AM','04/06/2018 12:00:00 AM',\n",
    "                       '11/06/2018 12:00:00 AM','02/07/2018 12:00:00 AM','20/07/2018 12:00:00 AM','07/08/2018 12:00:00 AM',\n",
    "                       '20/08/2018 12:00:00 AM','15/10/2018 12:00:00 AM','05/11/2018 12:00:00 AM','12/11/2018 12:00:00 AM',\n",
    "                       '08/12/2018 12:00:00 AM','25/12/2018 12:00:00 AM'])\n",
    "homicidios_2018['TIPO DIA'] = ''\n",
    "tipo_dia(homicidios_2018,__DIAS_FESTIVOS_2018)\n",
    "\n",
    "    \n",
    "                                  "
   ]
  },
  {
   "cell_type": "code",
   "execution_count": 15,
   "metadata": {},
   "outputs": [
    {
     "data": {
      "text/html": [
       "<div>\n",
       "<style scoped>\n",
       "    .dataframe tbody tr th:only-of-type {\n",
       "        vertical-align: middle;\n",
       "    }\n",
       "\n",
       "    .dataframe tbody tr th {\n",
       "        vertical-align: top;\n",
       "    }\n",
       "\n",
       "    .dataframe thead th {\n",
       "        text-align: right;\n",
       "    }\n",
       "</style>\n",
       "<table border=\"1\" class=\"dataframe\">\n",
       "  <thead>\n",
       "    <tr style=\"text-align: right;\">\n",
       "      <th></th>\n",
       "      <th>FECHA</th>\n",
       "      <th>DEPARTAMENTO</th>\n",
       "      <th>MUNICIPIO</th>\n",
       "      <th>DIA</th>\n",
       "      <th>HORA</th>\n",
       "      <th>BARRIO</th>\n",
       "      <th>ZONA</th>\n",
       "      <th>CLASE SITIO</th>\n",
       "      <th>ARMA EMPLEADA</th>\n",
       "      <th>MOVIL AGRESOR</th>\n",
       "      <th>...</th>\n",
       "      <th>PAIS NACIMIENTO</th>\n",
       "      <th>CLASE EMPLEADO</th>\n",
       "      <th>ESCOLARIDAD</th>\n",
       "      <th>CODIGO DANE</th>\n",
       "      <th>NUMERO_DIA</th>\n",
       "      <th>MES</th>\n",
       "      <th>ANO</th>\n",
       "      <th>HORA_</th>\n",
       "      <th>MINUTOS_</th>\n",
       "      <th>TIPO DIA</th>\n",
       "    </tr>\n",
       "  </thead>\n",
       "  <tbody>\n",
       "    <tr>\n",
       "      <th>0</th>\n",
       "      <td>01/01/2018 12:00:00 AM</td>\n",
       "      <td>AMAZONAS</td>\n",
       "      <td>LETICIA (CT)</td>\n",
       "      <td>LUNES</td>\n",
       "      <td>9:45:00</td>\n",
       "      <td>ESPERANZA</td>\n",
       "      <td>URBANA</td>\n",
       "      <td>VIAS PUBLICAS</td>\n",
       "      <td>ARMA BLANCA / CORTOPUNZANTE</td>\n",
       "      <td>A PIE</td>\n",
       "      <td>...</td>\n",
       "      <td>BRASIL</td>\n",
       "      <td>EMPLEADO PARTICULAR</td>\n",
       "      <td>SECUNDARIA</td>\n",
       "      <td>91001000.0</td>\n",
       "      <td>1</td>\n",
       "      <td>1</td>\n",
       "      <td>2018</td>\n",
       "      <td>9</td>\n",
       "      <td>45</td>\n",
       "      <td>NO LABORAL</td>\n",
       "    </tr>\n",
       "    <tr>\n",
       "      <th>1</th>\n",
       "      <td>01/01/2018 12:00:00 AM</td>\n",
       "      <td>AMAZONAS</td>\n",
       "      <td>LETICIA (CT)</td>\n",
       "      <td>LUNES</td>\n",
       "      <td>9:45:00</td>\n",
       "      <td>ESPERANZA</td>\n",
       "      <td>URBANA</td>\n",
       "      <td>VIAS PUBLICAS</td>\n",
       "      <td>ARMA BLANCA / CORTOPUNZANTE</td>\n",
       "      <td>A PIE</td>\n",
       "      <td>...</td>\n",
       "      <td>BRASIL</td>\n",
       "      <td>EMPLEADO PARTICULAR</td>\n",
       "      <td>SECUNDARIA</td>\n",
       "      <td>91001000.0</td>\n",
       "      <td>1</td>\n",
       "      <td>1</td>\n",
       "      <td>2018</td>\n",
       "      <td>9</td>\n",
       "      <td>45</td>\n",
       "      <td>NO LABORAL</td>\n",
       "    </tr>\n",
       "    <tr>\n",
       "      <th>2</th>\n",
       "      <td>01/01/2018 12:00:00 AM</td>\n",
       "      <td>ANTIOQUIA</td>\n",
       "      <td>ANDES</td>\n",
       "      <td>LUNES</td>\n",
       "      <td>8:30:00</td>\n",
       "      <td>ALTO DEL CEDRON</td>\n",
       "      <td>RURAL</td>\n",
       "      <td>VIAS PUBLICAS</td>\n",
       "      <td>ARMA DE FUEGO</td>\n",
       "      <td>A PIE</td>\n",
       "      <td>...</td>\n",
       "      <td>COLOMBIA</td>\n",
       "      <td>INDEPENDIENTE</td>\n",
       "      <td>PRIMARIA</td>\n",
       "      <td>5034000.0</td>\n",
       "      <td>1</td>\n",
       "      <td>1</td>\n",
       "      <td>2018</td>\n",
       "      <td>8</td>\n",
       "      <td>30</td>\n",
       "      <td>NO LABORAL</td>\n",
       "    </tr>\n",
       "    <tr>\n",
       "      <th>3</th>\n",
       "      <td>01/01/2018 12:00:00 AM</td>\n",
       "      <td>ANTIOQUIA</td>\n",
       "      <td>ANDES</td>\n",
       "      <td>LUNES</td>\n",
       "      <td>2:30:00</td>\n",
       "      <td>PARQUE PRINCIPAL</td>\n",
       "      <td>RURAL</td>\n",
       "      <td>PARQUES</td>\n",
       "      <td>ARMA BLANCA / CORTOPUNZANTE</td>\n",
       "      <td>A PIE</td>\n",
       "      <td>...</td>\n",
       "      <td>COLOMBIA</td>\n",
       "      <td>AGRICULTOR</td>\n",
       "      <td>PRIMARIA</td>\n",
       "      <td>5034000.0</td>\n",
       "      <td>1</td>\n",
       "      <td>1</td>\n",
       "      <td>2018</td>\n",
       "      <td>2</td>\n",
       "      <td>30</td>\n",
       "      <td>NO LABORAL</td>\n",
       "    </tr>\n",
       "    <tr>\n",
       "      <th>4</th>\n",
       "      <td>01/01/2018 12:00:00 AM</td>\n",
       "      <td>ANTIOQUIA</td>\n",
       "      <td>ANORÍ</td>\n",
       "      <td>LUNES</td>\n",
       "      <td>3:30:00</td>\n",
       "      <td>TENCHE</td>\n",
       "      <td>RURAL</td>\n",
       "      <td>BARES, CANTINAS Y SIMILARES</td>\n",
       "      <td>ARMA BLANCA / CORTOPUNZANTE</td>\n",
       "      <td>A PIE</td>\n",
       "      <td>...</td>\n",
       "      <td>COLOMBIA</td>\n",
       "      <td>INDEPENDIENTE</td>\n",
       "      <td>PRIMARIA</td>\n",
       "      <td>5040000.0</td>\n",
       "      <td>1</td>\n",
       "      <td>1</td>\n",
       "      <td>2018</td>\n",
       "      <td>3</td>\n",
       "      <td>30</td>\n",
       "      <td>NO LABORAL</td>\n",
       "    </tr>\n",
       "  </tbody>\n",
       "</table>\n",
       "<p>5 rows × 24 columns</p>\n",
       "</div>"
      ],
      "text/plain": [
       "                    FECHA DEPARTAMENTO     MUNICIPIO    DIA     HORA  \\\n",
       "0  01/01/2018 12:00:00 AM     AMAZONAS  LETICIA (CT)  LUNES  9:45:00   \n",
       "1  01/01/2018 12:00:00 AM     AMAZONAS  LETICIA (CT)  LUNES  9:45:00   \n",
       "2  01/01/2018 12:00:00 AM    ANTIOQUIA         ANDES  LUNES  8:30:00   \n",
       "3  01/01/2018 12:00:00 AM    ANTIOQUIA         ANDES  LUNES  2:30:00   \n",
       "4  01/01/2018 12:00:00 AM    ANTIOQUIA         ANORÍ  LUNES  3:30:00   \n",
       "\n",
       "             BARRIO    ZONA                  CLASE SITIO  \\\n",
       "0         ESPERANZA  URBANA                VIAS PUBLICAS   \n",
       "1         ESPERANZA  URBANA                VIAS PUBLICAS   \n",
       "2   ALTO DEL CEDRON   RURAL                VIAS PUBLICAS   \n",
       "3  PARQUE PRINCIPAL   RURAL                      PARQUES   \n",
       "4            TENCHE   RURAL  BARES, CANTINAS Y SIMILARES   \n",
       "\n",
       "                 ARMA EMPLEADA MOVIL AGRESOR  ... PAIS NACIMIENTO  \\\n",
       "0  ARMA BLANCA / CORTOPUNZANTE         A PIE  ...          BRASIL   \n",
       "1  ARMA BLANCA / CORTOPUNZANTE         A PIE  ...          BRASIL   \n",
       "2                ARMA DE FUEGO         A PIE  ...        COLOMBIA   \n",
       "3  ARMA BLANCA / CORTOPUNZANTE         A PIE  ...        COLOMBIA   \n",
       "4  ARMA BLANCA / CORTOPUNZANTE         A PIE  ...        COLOMBIA   \n",
       "\n",
       "        CLASE EMPLEADO ESCOLARIDAD CODIGO DANE NUMERO_DIA MES   ANO  HORA_  \\\n",
       "0  EMPLEADO PARTICULAR  SECUNDARIA  91001000.0          1   1  2018      9   \n",
       "1  EMPLEADO PARTICULAR  SECUNDARIA  91001000.0          1   1  2018      9   \n",
       "2        INDEPENDIENTE    PRIMARIA   5034000.0          1   1  2018      8   \n",
       "3           AGRICULTOR    PRIMARIA   5034000.0          1   1  2018      2   \n",
       "4        INDEPENDIENTE    PRIMARIA   5040000.0          1   1  2018      3   \n",
       "\n",
       "   MINUTOS_    TIPO DIA  \n",
       "0        45  NO LABORAL  \n",
       "1        45  NO LABORAL  \n",
       "2        30  NO LABORAL  \n",
       "3        30  NO LABORAL  \n",
       "4        30  NO LABORAL  \n",
       "\n",
       "[5 rows x 24 columns]"
      ]
     },
     "execution_count": 15,
     "metadata": {},
     "output_type": "execute_result"
    }
   ],
   "source": [
    "homicidios_2018.head()"
   ]
  },
  {
   "cell_type": "markdown",
   "metadata": {},
   "source": [
    "Analysing working vs no working days homicides (results below), it can be seen that around 44% of homicides are commited in no working days (Monday, Sunday and public holidays) these days only represent a 33% of the total days in a year though. This behavour tell us that these days might need more attention from local authorities."
   ]
  },
  {
   "cell_type": "code",
   "execution_count": 16,
   "metadata": {
    "scrolled": true
   },
   "outputs": [
    {
     "data": {
      "text/plain": [
       "LABORAL       2771\n",
       "NO LABORAL    2193\n",
       "Name: TIPO DIA, dtype: int64"
      ]
     },
     "execution_count": 16,
     "metadata": {},
     "output_type": "execute_result"
    }
   ],
   "source": [
    "lab = (homicidios_2018['TIPO DIA']).value_counts()\n",
    "lab"
   ]
  },
  {
   "cell_type": "code",
   "execution_count": 17,
   "metadata": {
    "scrolled": true
   },
   "outputs": [
    {
     "data": {
      "image/png": "[encoded data removed]",
      "text/plain": [
       "<Figure size 432x288 with 1 Axes>"
      ]
     },
     "metadata": {
      "needs_background": "light"
     },
     "output_type": "display_data"
    }
   ],
   "source": [
    "homicidios_laboral = np.round(lab['LABORAL']/len(homicidios_2018.index)*100)\n",
    "homicidios_no_laboral = np.round(lab['NO LABORAL']/len(homicidios_2018.index)*100)\n",
    "dias_no_laboral = np.round(121/365*100)\n",
    "dias_laboral = (100-dias_no_laboral)\n",
    "plt.bar(list(['DIA LABORAL','DIA NO LABORAL']),[homicidios_laboral,homicidios_no_laboral], label = '% HOMICIDIOS' )\n",
    "plt.text(0, homicidios_laboral+1, str(homicidios_laboral)+' %', color='blue', fontweight='bold')\n",
    "plt.text(1, homicidios_no_laboral+1, str(homicidios_no_laboral)+' %', color='blue', fontweight='bold')\n",
    "plt.bar(list(['DIA LABORAL','DIA NO LABORAL']),[dias_laboral,dias_no_laboral], width=0.5, label = '% DIAS AL ANO')\n",
    "plt.text(0, dias_laboral+1, str(dias_laboral)+' %', color='orange', fontweight='bold')\n",
    "plt.text(1, dias_no_laboral+1, str(dias_no_laboral)+' %', color='orange', fontweight='bold')\n",
    "plt.legend()\n",
    "plt.show()"
   ]
  },
  {
   "cell_type": "markdown",
   "metadata": {},
   "source": [
    "# 4. What is the most dangerous department or municipality in the Country (in terms of murders)? Do you need additional information for making this decision?"
   ]
  },
  {
   "cell_type": "code",
   "execution_count": 18,
   "metadata": {
    "scrolled": true
   },
   "outputs": [
    {
     "name": "stdout",
     "output_type": "stream",
     "text": [
      "The most dangerous department in terms of murders is ANTIOQUIA with a number of 925 homicides only in 2018 \n",
      "The most dangerous municipality in terms of murders is CALI (CT) with a number of 489 homicides only in 2018 \n"
     ]
    }
   ],
   "source": [
    "most_dangerous_department = homicidios_2018['DEPARTAMENTO'].value_counts().head(1)\n",
    "print('The most dangerous department in terms of murders is ' + str(most_dangerous_department.index[0]) +' with a number of '+ str(most_dangerous_department[0])+ ' homicides only in 2018 ')\n",
    "most_dangerous_municipality = homicidios_2018['MUNICIPIO'].value_counts().head(1)\n",
    "print('The most dangerous municipality in terms of murders is ' + str(most_dangerous_municipality.index[0]) +' with a number of '+ str(most_dangerous_municipality[0])+ ' homicides only in 2018 ')\n"
   ]
  },
  {
   "cell_type": "markdown",
   "metadata": {},
   "source": [
    "<div class=\"alert alert-block alert-success\">\n",
    "Even if in 2018 those two were the most dangerous department or municipality, I would not conclude that in general terms they are the most dangerous as of now, <b>I would say it is required to have more historical data</b> to come to this conclusion.\n",
    "</div>"
   ]
  },
  {
   "cell_type": "markdown",
   "metadata": {},
   "source": [
    "# 5. Would make sense a machine learning model for supporting police force in its work? What kind of model would you choose (regression, classification, clustering)? Train one and evaluate its performance."
   ]
  },
  {
   "cell_type": "markdown",
   "metadata": {},
   "source": [
    "Using the scikit-learn cheat sheet and the dataset characteristics, I would use clustering model to determine in a specific month and the regions that require more attention from the police"
   ]
  },
  {
   "cell_type": "code",
   "execution_count": 19,
   "metadata": {
    "scrolled": true
   },
   "outputs": [
    {
     "data": {
      "text/html": [
       "<div>\n",
       "<style scoped>\n",
       "    .dataframe tbody tr th:only-of-type {\n",
       "        vertical-align: middle;\n",
       "    }\n",
       "\n",
       "    .dataframe tbody tr th {\n",
       "        vertical-align: top;\n",
       "    }\n",
       "\n",
       "    .dataframe thead th {\n",
       "        text-align: right;\n",
       "    }\n",
       "</style>\n",
       "<table border=\"1\" class=\"dataframe\">\n",
       "  <thead>\n",
       "    <tr style=\"text-align: right;\">\n",
       "      <th></th>\n",
       "      <th>DEPARTAMENTO</th>\n",
       "      <th>MES</th>\n",
       "      <th>DIA</th>\n",
       "      <th>TIPO DIA</th>\n",
       "      <th>EDAD</th>\n",
       "      <th>ARMA EMPLEADA</th>\n",
       "    </tr>\n",
       "  </thead>\n",
       "  <tbody>\n",
       "    <tr>\n",
       "      <th>0</th>\n",
       "      <td>AMAZONAS</td>\n",
       "      <td>1</td>\n",
       "      <td>LUNES</td>\n",
       "      <td>NO LABORAL</td>\n",
       "      <td>16.0</td>\n",
       "      <td>ARMA BLANCA / CORTOPUNZANTE</td>\n",
       "    </tr>\n",
       "    <tr>\n",
       "      <th>1</th>\n",
       "      <td>AMAZONAS</td>\n",
       "      <td>1</td>\n",
       "      <td>LUNES</td>\n",
       "      <td>NO LABORAL</td>\n",
       "      <td>17.0</td>\n",
       "      <td>ARMA BLANCA / CORTOPUNZANTE</td>\n",
       "    </tr>\n",
       "    <tr>\n",
       "      <th>2</th>\n",
       "      <td>ANTIOQUIA</td>\n",
       "      <td>1</td>\n",
       "      <td>LUNES</td>\n",
       "      <td>NO LABORAL</td>\n",
       "      <td>26.0</td>\n",
       "      <td>ARMA DE FUEGO</td>\n",
       "    </tr>\n",
       "    <tr>\n",
       "      <th>3</th>\n",
       "      <td>ANTIOQUIA</td>\n",
       "      <td>1</td>\n",
       "      <td>LUNES</td>\n",
       "      <td>NO LABORAL</td>\n",
       "      <td>30.0</td>\n",
       "      <td>ARMA BLANCA / CORTOPUNZANTE</td>\n",
       "    </tr>\n",
       "    <tr>\n",
       "      <th>4</th>\n",
       "      <td>ANTIOQUIA</td>\n",
       "      <td>1</td>\n",
       "      <td>LUNES</td>\n",
       "      <td>NO LABORAL</td>\n",
       "      <td>25.0</td>\n",
       "      <td>ARMA BLANCA / CORTOPUNZANTE</td>\n",
       "    </tr>\n",
       "  </tbody>\n",
       "</table>\n",
       "</div>"
      ],
      "text/plain": [
       "  DEPARTAMENTO  MES    DIA    TIPO DIA  EDAD                ARMA EMPLEADA\n",
       "0     AMAZONAS    1  LUNES  NO LABORAL  16.0  ARMA BLANCA / CORTOPUNZANTE\n",
       "1     AMAZONAS    1  LUNES  NO LABORAL  17.0  ARMA BLANCA / CORTOPUNZANTE\n",
       "2    ANTIOQUIA    1  LUNES  NO LABORAL  26.0                ARMA DE FUEGO\n",
       "3    ANTIOQUIA    1  LUNES  NO LABORAL  30.0  ARMA BLANCA / CORTOPUNZANTE\n",
       "4    ANTIOQUIA    1  LUNES  NO LABORAL  25.0  ARMA BLANCA / CORTOPUNZANTE"
      ]
     },
     "execution_count": 19,
     "metadata": {},
     "output_type": "execute_result"
    }
   ],
   "source": [
    "new_homicidios_2018 = homicidios_2018.loc[:,['DEPARTAMENTO','MES','DIA','TIPO DIA','EDAD','ARMA EMPLEADA']]\n",
    "new_homicidios_2018.head()"
   ]
  },
  {
   "cell_type": "markdown",
   "metadata": {},
   "source": [
    "Using some classifier models, these were the results, where the KNeighbors and SCV classifiers performed better than Naives but still the accurracy resulted in 10%, which is very low."
   ]
  },
  {
   "cell_type": "code",
   "execution_count": 20,
   "metadata": {},
   "outputs": [
    {
     "name": "stdout",
     "output_type": "stream",
     "text": [
      "Accuracy: 0.11140939597315436\n",
      "Accuracy: 0.11476510067114094\n",
      "Accuracy: 0.10469798657718121\n"
     ]
    },
    {
     "data": {
      "image/png": "[encoded data removed]",
      "text/plain": [
       "<Figure size 432x288 with 1 Axes>"
      ]
     },
     "metadata": {
      "needs_background": "light"
     },
     "output_type": "display_data"
    },
    {
     "data": {
      "image/png": "[encoded data removed]",
      "text/plain": [
       "<Figure size 432x288 with 1 Axes>"
      ]
     },
     "metadata": {
      "needs_background": "light"
     },
     "output_type": "display_data"
    },
    {
     "data": {
      "image/png": "[encoded data removed]",
      "text/plain": [
       "<Figure size 432x288 with 1 Axes>"
      ]
     },
     "metadata": {
      "needs_background": "light"
     },
     "output_type": "display_data"
    }
   ],
   "source": [
    "# Importing label encoder\n",
    "from sklearn import preprocessing\n",
    "#creating labelEncoder\n",
    "le1 = preprocessing.LabelEncoder()\n",
    "le2 = preprocessing.LabelEncoder()\n",
    "le3 = preprocessing.LabelEncoder()\n",
    "le4 = preprocessing.LabelEncoder()\n",
    "le5 = preprocessing.LabelEncoder()\n",
    "\n",
    "# Converting string labels into numbers.\n",
    "department_encoded = le1.fit_transform(new_homicidios_2018['DEPARTAMENTO'])\n",
    "fecha_encoded = le2.fit_transform(new_homicidios_2018['MES'])\n",
    "dia_encoded = le3.fit_transform(new_homicidios_2018['TIPO DIA'])\n",
    "arma_encoded = le4.fit_transform(new_homicidios_2018['ARMA EMPLEADA'])\n",
    "dia_semana_encoded = le5.fit_transform(new_homicidios_2018['DIA'])\n",
    "\n",
    "encoded_homicidios_2018 = pd.DataFrame()\n",
    "encoded_homicidios_2018['DEPARTAMENTO'] = department_encoded\n",
    "encoded_homicidios_2018['MES'] = fecha_encoded\n",
    "encoded_homicidios_2018['DIA'] = dia_semana_encoded\n",
    "encoded_homicidios_2018['TIPO DIA'] = dia_encoded\n",
    "encoded_homicidios_2018['EDAD'] = new_homicidios_2018['EDAD']\n",
    "encoded_homicidios_2018['ARMA EMPLEADA'] = arma_encoded\n",
    "\n",
    "X = encoded_homicidios_2018.drop('MES', axis=1) # axis = 1 por que estamos eliminando una columna\n",
    "y = encoded_homicidios_2018['MES']\n",
    "\n",
    "# Import train_test_split function\n",
    "from sklearn.model_selection import train_test_split\n",
    "\n",
    "# Split dataset into training set and test set\n",
    "X_train, X_test, y_train, y_test = train_test_split(X, y, test_size=0.3) # 70% training and 30% test\n",
    "\n",
    "#Combinig department and tipo dia into single list of tuples\n",
    "features=zip(np.reshape(department_encoded,len(department_encoded)),np.reshape(dia_encoded,len(dia_encoded)))\n",
    "\n",
    "#Import Gaussian Naive Bayes model\n",
    "from sklearn.naive_bayes import GaussianNB\n",
    "\n",
    "#Create a Gaussian Classifier\n",
    "model = GaussianNB()\n",
    "\n",
    "# Train the model using the training sets\n",
    "model.fit(X_train, y_train)\n",
    "\n",
    "#Predict the response for test dataset\n",
    "y_pred = model.predict(X_test)\n",
    "\n",
    "#Import scikit-learn metrics module for accuracy calculation\n",
    "from sklearn import metrics\n",
    "\n",
    "# Model Accuracy, how often is the classifier correct?\n",
    "print(\"Accuracy:\",metrics.accuracy_score(y_test, y_pred))\n",
    "plt.figure()\n",
    "plt.hist([y_pred, y_test])\n",
    "\n",
    "#Import SVC model\n",
    "from sklearn.svm import SVC\n",
    "\n",
    "#Create a SVS\n",
    "model = SVC(gamma='auto')\n",
    "\n",
    "# Train the model using the training sets\n",
    "model.fit(X_train, y_train)\n",
    "\n",
    "#Predict the response for test dataset\n",
    "y_pred = model.predict(X_test)\n",
    "\n",
    "#Import scikit-learn metrics module for accuracy calculation\n",
    "from sklearn import metrics\n",
    "\n",
    "# Model Accuracy, how often is the classifier correct?\n",
    "print(\"Accuracy:\",metrics.accuracy_score(y_test, y_pred))\n",
    "plt.figure()\n",
    "plt.hist([y_pred, y_test])\n",
    "\n",
    "#Import KNeighborsClassifier model\n",
    "from sklearn.neighbors import KNeighborsClassifier\n",
    "\n",
    "#Create a KNeighbors Classifier\n",
    "model = KNeighborsClassifier()\n",
    "\n",
    "# Train the model using the training sets\n",
    "model.fit(X_train, y_train)\n",
    "\n",
    "#Predict the response for test dataset\n",
    "y_pred = model.predict(X_test)\n",
    "\n",
    "#Import scikit-learn metrics module for accuracy calculation\n",
    "from sklearn import metrics\n",
    "\n",
    "# Model Accuracy, how often is the classifier correct?\n",
    "print(\"Accuracy:\",metrics.accuracy_score(y_test, y_pred))\n",
    "plt.figure()\n",
    "plt.hist([y_pred, y_test])\n",
    "fechas_pred = pd.Series(le2.inverse_transform(y_pred))\n"
   ]
  },
  {
   "cell_type": "code",
   "execution_count": 21,
   "metadata": {},
   "outputs": [
    {
     "data": {
      "image/png": "[encoded data removed]",
      "text/plain": [
       "<Figure size 432x288 with 1 Axes>"
      ]
     },
     "metadata": {
      "needs_background": "light"
     },
     "output_type": "display_data"
    }
   ],
   "source": [
    "# Elbow method to determine best number of clusters using the graph\n",
    "from sklearn.cluster import KMeans\n",
    "\n",
    "wcss = []\n",
    "for i in range(1, 11):\n",
    "    kmeans = KMeans(n_clusters=i, init='k-means++', max_iter=300, n_init=10, random_state=0)\n",
    "    kmeans.fit(encoded_homicidios_2018)\n",
    "    wcss.append(kmeans.inertia_)\n",
    "plt.plot(range(1, 11), wcss)\n",
    "plt.title('Elbow Method')\n",
    "plt.xlabel('Number of clusters')\n",
    "plt.ylabel('WCSS')\n",
    "plt.show()"
   ]
  },
  {
   "cell_type": "code",
   "execution_count": 22,
   "metadata": {
    "scrolled": true
   },
   "outputs": [
    {
     "name": "stdout",
     "output_type": "stream",
     "text": [
      "Cluster 0\n",
      "ANTIOQUIA       784\n",
      "CUNDINAMARCA    423\n",
      "CAUCA           222\n",
      "ATLÁNTICO       181\n",
      "BOLÍVAR         133\n",
      "Name: DEPARTAMENTO, dtype: int64\n",
      "2     220\n",
      "4     207\n",
      "12    205\n",
      "7     201\n",
      "6     197\n",
      "Name: MES, dtype: int64\n",
      "DOMINGO      503\n",
      "SABADO       375\n",
      "LUNES        347\n",
      "MIERCOLES    273\n",
      "JUEVES       266\n",
      "Name: DIA, dtype: int64\n",
      "LABORAL       1235\n",
      "NO LABORAL    1017\n",
      "Name: TIPO DIA, dtype: int64\n",
      "23.0    118\n",
      "30.0    113\n",
      "21.0    111\n",
      "24.0    111\n",
      "25.0    109\n",
      "Name: EDAD, dtype: int64\n",
      "ARMA DE FUEGO                         1591\n",
      "ARMA BLANCA / CORTOPUNZANTE            544\n",
      "CONTUNDENTES                            87\n",
      "ARTEFACTO EXPLOSIVO/CARGA DINAMITA      14\n",
      "BOLSA PLASTICA                           4\n",
      "Name: ARMA EMPLEADA, dtype: int64\n",
      "Cluster 1\n",
      "CUNDINAMARCA    158\n",
      "VALLE           141\n",
      "ANTIOQUIA       141\n",
      "CAUCA            60\n",
      "NARIÑO           55\n",
      "Name: DEPARTAMENTO, dtype: int64\n",
      "8     101\n",
      "12     99\n",
      "9      97\n",
      "2      96\n",
      "6      95\n",
      "Name: MES, dtype: int64\n",
      "DOMINGO    213\n",
      "SABADO     188\n",
      "LUNES      171\n",
      "MARTES     128\n",
      "JUEVES     125\n",
      "Name: DIA, dtype: int64\n",
      "LABORAL       601\n",
      "NO LABORAL    459\n",
      "Name: TIPO DIA, dtype: int64\n",
      "45.0    76\n",
      "51.0    63\n",
      "50.0    55\n",
      "46.0    55\n",
      "44.0    53\n",
      "Name: EDAD, dtype: int64\n",
      "ARMA DE FUEGO                  667\n",
      "ARMA BLANCA / CORTOPUNZANTE    284\n",
      "CONTUNDENTES                    90\n",
      "CINTAS/CINTURON                  4\n",
      "COMBUSTIBLE                      4\n",
      "Name: ARMA EMPLEADA, dtype: int64\n",
      "Cluster 2\n",
      "VALLE                 748\n",
      "NARIÑO                208\n",
      "NORTE DE SANTANDER    141\n",
      "META                   82\n",
      "HUILA                  74\n",
      "Name: DEPARTAMENTO, dtype: int64\n",
      "12    159\n",
      "7     149\n",
      "8     148\n",
      "11    141\n",
      "6     139\n",
      "Name: MES, dtype: int64\n",
      "DOMINGO    371\n",
      "LUNES      253\n",
      "SABADO     249\n",
      "JUEVES     218\n",
      "VIERNES    196\n",
      "Name: DIA, dtype: int64\n",
      "LABORAL       935\n",
      "NO LABORAL    717\n",
      "Name: TIPO DIA, dtype: int64\n",
      "27.0    98\n",
      "23.0    96\n",
      "25.0    94\n",
      "22.0    85\n",
      "20.0    79\n",
      "Name: EDAD, dtype: int64\n",
      "ARMA DE FUEGO                  1291\n",
      "ARMA BLANCA / CORTOPUNZANTE     305\n",
      "CONTUNDENTES                     39\n",
      "CUERDA/SOGA/CADENA                9\n",
      "CINTAS/CINTURON                   2\n",
      "Name: ARMA EMPLEADA, dtype: int64\n"
     ]
    }
   ],
   "source": [
    "n_clusters=3\n",
    "model = KMeans(n_clusters, init='k-means++', max_iter=300, n_init=10, random_state=0)\n",
    "\n",
    "#Clustering data from dataset\n",
    "y_pred = model.fit_predict(encoded_homicidios_2018)\n",
    "encoded_homicidios_2018['CLUSTER'] = y_pred\n",
    "#decoding_clusters = encoded_homicidios_2018['cluster']\n",
    "decoding_clusters = pd.DataFrame()\n",
    "decoding_clusters['DEPARTAMENTO'] = le1.inverse_transform(encoded_homicidios_2018['DEPARTAMENTO'])\n",
    "decoding_clusters['MES'] = le2.inverse_transform(encoded_homicidios_2018['MES'])\n",
    "decoding_clusters['DIA'] = le5.inverse_transform(encoded_homicidios_2018['DIA'])\n",
    "decoding_clusters['TIPO DIA'] = le3.inverse_transform(encoded_homicidios_2018['TIPO DIA'])\n",
    "decoding_clusters['ARMA EMPLEADA'] = le4.inverse_transform(encoded_homicidios_2018['ARMA EMPLEADA'])\n",
    "decoding_clusters['EDAD'] = encoded_homicidios_2018['EDAD']\n",
    "decoding_clusters['CLUSTER'] = y_pred\n",
    "\n",
    "cluster = {}\n",
    "\n",
    "for i in range(n_clusters):\n",
    "    print('Cluster '+str(i))\n",
    "    cluster[i] = (decoding_clusters[decoding_clusters['CLUSTER'] == i])\n",
    "    print((cluster[i]['DEPARTAMENTO']).value_counts().head())\n",
    "    print((cluster[i]['MES']).value_counts().head())\n",
    "    print((cluster[i]['DIA']).value_counts().head())\n",
    "    print((cluster[i]['TIPO DIA']).value_counts().head())\n",
    "    print((cluster[i]['EDAD']).value_counts().head())\n",
    "    print((cluster[i]['ARMA EMPLEADA']).value_counts().head())\n"
   ]
  }
 ],
 "metadata": {
  "kernelspec": {
   "display_name": "Python 3",
   "language": "python",
   "name": "python3"
  },
  "language_info": {
   "codemirror_mode": {
    "name": "ipython",
    "version": 3
   },
   "file_extension": ".py",
   "mimetype": "text/x-python",
   "name": "python",
   "nbconvert_exporter": "python",
   "pygments_lexer": "ipython3",
   "version": "3.7.3"
  }
 },
 "nbformat": 4,
 "nbformat_minor": 2
}

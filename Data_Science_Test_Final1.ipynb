{
 "cells": [
  {
   "cell_type": "markdown",
   "metadata": {},
   "source": [
    "# Importing libraries"
   ]
  },
  {
   "cell_type": "code",
   "execution_count": 1,
   "metadata": {},
   "outputs": [],
   "source": [
    "import numpy as np\n",
    "import pandas as pd"
   ]
  },
  {
   "cell_type": "markdown",
   "metadata": {},
   "source": [
    "# 2. Data Quality Issues and data general insights"
   ]
  },
  {
   "cell_type": "markdown",
   "metadata": {},
   "source": [
    "## Exploring data"
   ]
  },
  {
   "cell_type": "markdown",
   "metadata": {},
   "source": [
    "I first start by looking at the data using .info() method, so that I have a general understanding of the dataset"
   ]
  },
  {
   "cell_type": "code",
   "execution_count": 2,
   "metadata": {
    "scrolled": true
   },
   "outputs": [
    {
     "name": "stdout",
     "output_type": "stream",
     "text": [
      "<class 'pandas.core.frame.DataFrame'>\n",
      "RangeIndex: 4966 entries, 0 to 4965\n",
      "Data columns (total 20 columns):\n",
      "Fecha                 4965 non-null object\n",
      "Departamento          4965 non-null object\n",
      "Municipio             4965 non-null object\n",
      "Día                   4965 non-null object\n",
      "Hora                  4965 non-null object\n",
      "Barrio                4965 non-null object\n",
      "Zona                  4965 non-null object\n",
      "Clase de sitio        4965 non-null object\n",
      "Arma empleada         4965 non-null object\n",
      "Móvil Agresor         4965 non-null object\n",
      "Móvil Victima         4965 non-null object\n",
      "Edad                  4965 non-null float64\n",
      "Sexo                  4965 non-null object\n",
      "Estado civil          4965 non-null object\n",
      "País de nacimiento    4965 non-null object\n",
      "Clase de empleado     4965 non-null object\n",
      "Profesión             4965 non-null object\n",
      "Escolaridad           4965 non-null object\n",
      "Código DANE           4965 non-null float64\n",
      "Cantidad              4966 non-null int64\n",
      "dtypes: float64(2), int64(1), object(17)\n",
      "memory usage: 776.0+ KB\n"
     ]
    }
   ],
   "source": [
    "pd.options.display.max_rows = 8\n",
    "homicidios_2018 = pd.read_csv('./dataset/Homicidios_2018.csv', encoding = 'utf-8')\n",
    "homicidios_2018.info()"
   ]
  },
  {
   "cell_type": "markdown",
   "metadata": {},
   "source": [
    "Then by using .isna().any(axis=1) or .isnull().any(axis=1) I find there is one row with no information, so that it needs to be deleted from the dataset using .dropna()"
   ]
  },
  {
   "cell_type": "code",
   "execution_count": 3,
   "metadata": {
    "scrolled": true
   },
   "outputs": [
    {
     "data": {
      "text/plain": [
       "False    4965\n",
       "True        1\n",
       "Name: Municipio, dtype: int64"
      ]
     },
     "execution_count": 3,
     "metadata": {},
     "output_type": "execute_result"
    }
   ],
   "source": [
    "homicidios_2018['Municipio'].isna().value_counts()"
   ]
  },
  {
   "cell_type": "code",
   "execution_count": 4,
   "metadata": {},
   "outputs": [
    {
     "data": {
      "text/html": [
       "<div>\n",
       "<style scoped>\n",
       "    .dataframe tbody tr th:only-of-type {\n",
       "        vertical-align: middle;\n",
       "    }\n",
       "\n",
       "    .dataframe tbody tr th {\n",
       "        vertical-align: top;\n",
       "    }\n",
       "\n",
       "    .dataframe thead th {\n",
       "        text-align: right;\n",
       "    }\n",
       "</style>\n",
       "<table border=\"1\" class=\"dataframe\">\n",
       "  <thead>\n",
       "    <tr style=\"text-align: right;\">\n",
       "      <th></th>\n",
       "      <th>Fecha</th>\n",
       "      <th>Departamento</th>\n",
       "      <th>Municipio</th>\n",
       "      <th>Día</th>\n",
       "      <th>Hora</th>\n",
       "      <th>Barrio</th>\n",
       "      <th>Zona</th>\n",
       "      <th>Clase de sitio</th>\n",
       "      <th>Arma empleada</th>\n",
       "      <th>Móvil Agresor</th>\n",
       "      <th>Móvil Victima</th>\n",
       "      <th>Edad</th>\n",
       "      <th>Sexo</th>\n",
       "      <th>Estado civil</th>\n",
       "      <th>País de nacimiento</th>\n",
       "      <th>Clase de empleado</th>\n",
       "      <th>Profesión</th>\n",
       "      <th>Escolaridad</th>\n",
       "      <th>Código DANE</th>\n",
       "      <th>Cantidad</th>\n",
       "    </tr>\n",
       "  </thead>\n",
       "  <tbody>\n",
       "    <tr>\n",
       "      <th>4965</th>\n",
       "      <td>NaN</td>\n",
       "      <td>NaN</td>\n",
       "      <td>NaN</td>\n",
       "      <td>NaN</td>\n",
       "      <td>NaN</td>\n",
       "      <td>NaN</td>\n",
       "      <td>NaN</td>\n",
       "      <td>NaN</td>\n",
       "      <td>NaN</td>\n",
       "      <td>NaN</td>\n",
       "      <td>NaN</td>\n",
       "      <td>NaN</td>\n",
       "      <td>NaN</td>\n",
       "      <td>NaN</td>\n",
       "      <td>NaN</td>\n",
       "      <td>NaN</td>\n",
       "      <td>NaN</td>\n",
       "      <td>NaN</td>\n",
       "      <td>NaN</td>\n",
       "      <td>12667</td>\n",
       "    </tr>\n",
       "  </tbody>\n",
       "</table>\n",
       "</div>"
      ],
      "text/plain": [
       "     Fecha Departamento Municipio  Día Hora Barrio Zona Clase de sitio  \\\n",
       "4965   NaN          NaN       NaN  NaN  NaN    NaN  NaN            NaN   \n",
       "\n",
       "     Arma empleada Móvil Agresor Móvil Victima  Edad Sexo Estado civil  \\\n",
       "4965           NaN           NaN           NaN   NaN  NaN          NaN   \n",
       "\n",
       "     País de nacimiento Clase de empleado Profesión Escolaridad  Código DANE  \\\n",
       "4965                NaN               NaN       NaN         NaN          NaN   \n",
       "\n",
       "      Cantidad  \n",
       "4965     12667  "
      ]
     },
     "execution_count": 4,
     "metadata": {},
     "output_type": "execute_result"
    }
   ],
   "source": [
    "homicidios_2018[homicidios_2018.isna().any(axis=1) | homicidios_2018.isnull().any(axis=1)]"
   ]
  },
  {
   "cell_type": "code",
   "execution_count": 5,
   "metadata": {
    "scrolled": false
   },
   "outputs": [],
   "source": [
    "homicidios_2018 = homicidios_2018.dropna()"
   ]
  },
  {
   "cell_type": "code",
   "execution_count": 6,
   "metadata": {},
   "outputs": [
    {
     "name": "stdout",
     "output_type": "stream",
     "text": [
      "<class 'pandas.core.frame.DataFrame'>\n",
      "Int64Index: 4965 entries, 0 to 4964\n",
      "Data columns (total 20 columns):\n",
      "Fecha                 4965 non-null object\n",
      "Departamento          4965 non-null object\n",
      "Municipio             4965 non-null object\n",
      "Día                   4965 non-null object\n",
      "Hora                  4965 non-null object\n",
      "Barrio                4965 non-null object\n",
      "Zona                  4965 non-null object\n",
      "Clase de sitio        4965 non-null object\n",
      "Arma empleada         4965 non-null object\n",
      "Móvil Agresor         4965 non-null object\n",
      "Móvil Victima         4965 non-null object\n",
      "Edad                  4965 non-null float64\n",
      "Sexo                  4965 non-null object\n",
      "Estado civil          4965 non-null object\n",
      "País de nacimiento    4965 non-null object\n",
      "Clase de empleado     4965 non-null object\n",
      "Profesión             4965 non-null object\n",
      "Escolaridad           4965 non-null object\n",
      "Código DANE           4965 non-null float64\n",
      "Cantidad              4965 non-null int64\n",
      "dtypes: float64(2), int64(1), object(17)\n",
      "memory usage: 814.6+ KB\n"
     ]
    }
   ],
   "source": [
    "#Updated dataset\n",
    "homicidios_2018.info()"
   ]
  },
  {
   "cell_type": "markdown",
   "metadata": {},
   "source": [
    "The first procedure is to have an overview of the data, I will do so by using the value_counts() method which gives us information of the data in the dataset for a desired column and the frequency of that value"
   ]
  },
  {
   "cell_type": "code",
   "execution_count": 7,
   "metadata": {},
   "outputs": [
    {
     "data": {
      "text/plain": [
       "False    4965\n",
       "dtype: int64"
      ]
     },
     "execution_count": 7,
     "metadata": {},
     "output_type": "execute_result"
    }
   ],
   "source": [
    "#Checking if there are any duplicated values\n",
    "homicidios_2018.duplicated().value_counts()"
   ]
  },
  {
   "cell_type": "code",
   "execution_count": 8,
   "metadata": {
    "scrolled": true
   },
   "outputs": [
    {
     "data": {
      "text/plain": [
       "01/01/2018 12:00:00 AM    82\n",
       "08/07/2018 12:00:00 AM    72\n",
       "08/04/2018 12:00:00 AM    67\n",
       "08/12/2018 12:00:00 AM    67\n",
       "                          ..\n",
       "06/09/2018 12:00:00 AM    20\n",
       "03/10/2018 12:00:00 AM    19\n",
       "09/10/2018 12:00:00 AM    19\n",
       "05/01/2018 12:00:00 AM    18\n",
       "Name: Fecha, Length: 144, dtype: int64"
      ]
     },
     "execution_count": 8,
     "metadata": {},
     "output_type": "execute_result"
    }
   ],
   "source": [
    "# dates which are consistently repeated and its frequency\n",
    "homicidios_2018['Fecha'].value_counts()"
   ]
  },
  {
   "cell_type": "markdown",
   "metadata": {},
   "source": [
    "It can be seen that January 1st (Public holiday) is the day with the highest amount of homicides in Colombia in 2018, followed by July 8th (Sunday) and December 8th (Public holiday)\n",
    "- 01/01/2018 12:00:00 AM    82\n",
    "- 08/07/2018 12:00:00 AM    72\n",
    "- 08/12/2018 12:00:00 AM    67\n",
    "\n",
    "There is no data quality issues for this column, the data look consistent."
   ]
  },
  {
   "cell_type": "code",
   "execution_count": 9,
   "metadata": {
    "scrolled": true
   },
   "outputs": [
    {
     "data": {
      "text/plain": [
       "ANTIOQUIA       926\n",
       "VALLE           889\n",
       "CUNDINAMARCA    581\n",
       "CAUCA           282\n",
       "               ... \n",
       "GUAVIARE          5\n",
       "AMAZONAS          4\n",
       "VAUPÉS            2\n",
       "GUAINÍA           1\n",
       "Name: Departamento, Length: 32, dtype: int64"
      ]
     },
     "execution_count": 9,
     "metadata": {},
     "output_type": "execute_result"
    }
   ],
   "source": [
    "top3_dep = homicidios_2018['Departamento'].value_counts()\n",
    "top3_dep"
   ]
  },
  {
   "cell_type": "code",
   "execution_count": 10,
   "metadata": {},
   "outputs": [
    {
     "data": {
      "text/plain": [
       "0.48257804632426987"
      ]
     },
     "execution_count": 10,
     "metadata": {},
     "output_type": "execute_result"
    }
   ],
   "source": [
    "total_top3_dep = top3_dep[0]+top3_dep[1]+top3_dep[2]\n",
    "percentage_dep = total_top3_dep/4965\n",
    "percentage_dep"
   ]
  },
  {
   "cell_type": "markdown",
   "metadata": {},
   "source": [
    "The departments with the highest homicide number are Antioquia (925), Valle (889) and Cundinamarca (581), respectively. These departments represent take 48% of the homicides in Colombia in 2018. There is no any data issues here."
   ]
  },
  {
   "cell_type": "code",
   "execution_count": 11,
   "metadata": {
    "scrolled": true
   },
   "outputs": [
    {
     "data": {
      "text/plain": [
       "CALI (CT)            489\n",
       "BOGOTÁ D.C. (CT)     431\n",
       "MEDELLÍN (CT)        201\n",
       "BARRANQUILLA (CT)    120\n",
       "                    ... \n",
       "CURITÍ                 1\n",
       "MONTEBELLO             1\n",
       "PAJARITO               1\n",
       "SAN FRANCISCO          1\n",
       "Name: Municipio, Length: 582, dtype: int64"
      ]
     },
     "execution_count": 11,
     "metadata": {},
     "output_type": "execute_result"
    }
   ],
   "source": [
    "homicidios_2018['Municipio'].value_counts()"
   ]
  },
  {
   "cell_type": "markdown",
   "metadata": {},
   "source": [
    "Cali, Bogota and Medellin are the cities with the highest number of homicides during 2018."
   ]
  },
  {
   "cell_type": "code",
   "execution_count": 12,
   "metadata": {
    "scrolled": false
   },
   "outputs": [
    {
     "data": {
      "text/plain": [
       "Domingo      1087\n",
       "Sábado        812\n",
       "Lunes         771\n",
       "Jueves        610\n",
       "Miércoles     581\n",
       "Viernes       568\n",
       "Martes        536\n",
       "Name: Día, dtype: int64"
      ]
     },
     "execution_count": 12,
     "metadata": {},
     "output_type": "execute_result"
    }
   ],
   "source": [
    "homicidios_2018['Día'].value_counts()"
   ]
  },
  {
   "cell_type": "markdown",
   "metadata": {},
   "source": [
    "A great number of homicides are committed on Sunday or Saturday. It is important to notice how monday is at the top 3 and friday is the second least day with homicides."
   ]
  },
  {
   "cell_type": "code",
   "execution_count": 13,
   "metadata": {
    "scrolled": true
   },
   "outputs": [
    {
     "data": {
      "text/plain": [
       "20:30:00    80\n",
       "20:00:00    79\n",
       "21:30:00    71\n",
       "23:00:00    65\n",
       "19:30:00    64\n",
       "Name: Hora, dtype: int64"
      ]
     },
     "execution_count": 13,
     "metadata": {},
     "output_type": "execute_result"
    }
   ],
   "source": [
    "homicidios_2018['Hora'].value_counts().head()"
   ]
  },
  {
   "cell_type": "code",
   "execution_count": 14,
   "metadata": {
    "scrolled": true
   },
   "outputs": [
    {
     "data": {
      "text/plain": [
       "3:41:00     1\n",
       "10:52:00    1\n",
       "12:12:00    1\n",
       "16:29:00    1\n",
       "21:49:00    1\n",
       "Name: Hora, dtype: int64"
      ]
     },
     "execution_count": 14,
     "metadata": {},
     "output_type": "execute_result"
    }
   ],
   "source": [
    "homicidios_2018['Hora'].value_counts().tail()"
   ]
  },
  {
   "cell_type": "markdown",
   "metadata": {},
   "source": [
    "The data looks consistent, although we can create subgroups to classify them and manage it in a different way."
   ]
  },
  {
   "cell_type": "code",
   "execution_count": 15,
   "metadata": {
    "scrolled": true
   },
   "outputs": [
    {
     "data": {
      "text/plain": [
       "CENTRO                       108\n",
       "VEREDA                        32\n",
       "EL BOSQUE                     19\n",
       "LA ESPERANZA                  19\n",
       "                            ... \n",
       "BALCON DEL LLANO               1\n",
       "VEREDA CAÑO LA SAL             1\n",
       "BARRIO SUEÑOS DE LIBERTAD      1\n",
       "LOS PARQUES                    1\n",
       "Name: Barrio, Length: 2947, dtype: int64"
      ]
     },
     "execution_count": 15,
     "metadata": {},
     "output_type": "execute_result"
    }
   ],
   "source": [
    "homicidios_2018['Barrio'].value_counts()"
   ]
  },
  {
   "cell_type": "markdown",
   "metadata": {},
   "source": [
    "'Centro' or the city center remains as the sector of the city where most homicides are committed"
   ]
  },
  {
   "cell_type": "code",
   "execution_count": 16,
   "metadata": {
    "scrolled": true
   },
   "outputs": [
    {
     "data": {
      "text/plain": [
       "URBANA    3321\n",
       "RURAL     1644\n",
       "Name: Zona, dtype: int64"
      ]
     },
     "execution_count": 16,
     "metadata": {},
     "output_type": "execute_result"
    }
   ],
   "source": [
    "homicidios_2018['Zona'].value_counts()"
   ]
  },
  {
   "cell_type": "markdown",
   "metadata": {},
   "source": [
    "This data seems pretty good to pass it through to the next stage."
   ]
  },
  {
   "cell_type": "code",
   "execution_count": 17,
   "metadata": {
    "scrolled": true
   },
   "outputs": [
    {
     "data": {
      "text/plain": [
       "VIAS PUBLICAS                    2990\n",
       "FINCAS Y SIMILARES                561\n",
       "CASAS DE HABITACION               300\n",
       "CARRETERA                         144\n",
       "                                 ... \n",
       "OFICINAS                            1\n",
       "ESTACION TRANSMILENIO MOLINOS       1\n",
       "TRANSPORTE INTERMUNICIPAL           1\n",
       "COMPRAVENTA                         1\n",
       "Name: Clase de sitio, Length: 111, dtype: int64"
      ]
     },
     "execution_count": 17,
     "metadata": {},
     "output_type": "execute_result"
    }
   ],
   "source": [
    "homicidios_2018['Clase de sitio'].value_counts()"
   ]
  },
  {
   "cell_type": "code",
   "execution_count": 18,
   "metadata": {
    "scrolled": true
   },
   "outputs": [
    {
     "data": {
      "text/plain": [
       "ARMA DE FUEGO                  3549\n",
       "ARMA BLANCA / CORTOPUNZANTE    1133\n",
       "CONTUNDENTES                    217\n",
       "CUERDA/SOGA/CADENA               14\n",
       "                               ... \n",
       "NO REPORTADO                      3\n",
       "SIN EMPLEO DE ARMAS               1\n",
       "MOTO BOMBA                        1\n",
       "QUIMICOS                          1\n",
       "Name: Arma empleada, Length: 15, dtype: int64"
      ]
     },
     "execution_count": 18,
     "metadata": {},
     "output_type": "execute_result"
    }
   ],
   "source": [
    "homicidios_2018['Arma empleada'].value_counts()"
   ]
  },
  {
   "cell_type": "code",
   "execution_count": 19,
   "metadata": {
    "scrolled": true
   },
   "outputs": [
    {
     "data": {
      "text/plain": [
       "A PIE                    4129\n",
       "PASAJERO MOTOCICLETA      620\n",
       "CONDUCTOR MOTOCICLETA     107\n",
       "PASAJERO VEHICULO          29\n",
       "                         ... \n",
       "-                          10\n",
       "CONDUCTOR TAXI              7\n",
       "PASAJERO BARCO              7\n",
       "PASAJERO BUS                3\n",
       "Name: Móvil Agresor, Length: 11, dtype: int64"
      ]
     },
     "execution_count": 19,
     "metadata": {},
     "output_type": "execute_result"
    }
   ],
   "source": [
    "homicidios_2018['Móvil Agresor'].value_counts()"
   ]
  },
  {
   "cell_type": "code",
   "execution_count": 20,
   "metadata": {
    "scrolled": true
   },
   "outputs": [
    {
     "data": {
      "text/plain": [
       "A PIE                    4553\n",
       "CONDUCTOR MOTOCICLETA     185\n",
       "CONDUCTOR VEHICULO         95\n",
       "PASAJERO MOTOCICLETA       33\n",
       "                         ... \n",
       "PASAJERO TAXI               9\n",
       "PASAJERO BARCO              8\n",
       "PASAJERO BUS                4\n",
       "CONDUCTOR BUS               2\n",
       "Name: Móvil Victima, Length: 12, dtype: int64"
      ]
     },
     "execution_count": 20,
     "metadata": {},
     "output_type": "execute_result"
    }
   ],
   "source": [
    "homicidios_2018['Móvil Victima'].value_counts()"
   ]
  },
  {
   "cell_type": "markdown",
   "metadata": {},
   "source": [
    "The majority of homicides are commited by walk and the affected person also is nurdered while walking. There is no given data for these 2 as seen with the element with '-' in the tables above."
   ]
  },
  {
   "cell_type": "code",
   "execution_count": 21,
   "metadata": {
    "scrolled": true
   },
   "outputs": [
    {
     "data": {
      "text/plain": [
       "count    4965.000000\n",
       "mean       32.758711\n",
       "std        13.108539\n",
       "min         1.000000\n",
       "25%        23.000000\n",
       "50%        30.000000\n",
       "75%        39.000000\n",
       "max       100.000000\n",
       "Name: Edad, dtype: float64"
      ]
     },
     "execution_count": 21,
     "metadata": {},
     "output_type": "execute_result"
    }
   ],
   "source": [
    "homicidios_2018['Edad'].describe()"
   ]
  },
  {
   "cell_type": "markdown",
   "metadata": {},
   "source": [
    "By analysing some statistics from Age, I found the minimum age was 1, which might be logical, however when displaying all details for this specific aspect, I found out that 'sort of Employee' for one of them was independent, then it clearly seems no logical."
   ]
  },
  {
   "cell_type": "code",
   "execution_count": 22,
   "metadata": {
    "scrolled": true
   },
   "outputs": [
    {
     "data": {
      "text/html": [
       "<div>\n",
       "<style scoped>\n",
       "    .dataframe tbody tr th:only-of-type {\n",
       "        vertical-align: middle;\n",
       "    }\n",
       "\n",
       "    .dataframe tbody tr th {\n",
       "        vertical-align: top;\n",
       "    }\n",
       "\n",
       "    .dataframe thead th {\n",
       "        text-align: right;\n",
       "    }\n",
       "</style>\n",
       "<table border=\"1\" class=\"dataframe\">\n",
       "  <thead>\n",
       "    <tr style=\"text-align: right;\">\n",
       "      <th></th>\n",
       "      <th>Fecha</th>\n",
       "      <th>Departamento</th>\n",
       "      <th>Municipio</th>\n",
       "      <th>Día</th>\n",
       "      <th>Hora</th>\n",
       "      <th>Barrio</th>\n",
       "      <th>Zona</th>\n",
       "      <th>Clase de sitio</th>\n",
       "      <th>Arma empleada</th>\n",
       "      <th>Móvil Agresor</th>\n",
       "      <th>Móvil Victima</th>\n",
       "      <th>Edad</th>\n",
       "      <th>Sexo</th>\n",
       "      <th>Estado civil</th>\n",
       "      <th>País de nacimiento</th>\n",
       "      <th>Clase de empleado</th>\n",
       "      <th>Profesión</th>\n",
       "      <th>Escolaridad</th>\n",
       "      <th>Código DANE</th>\n",
       "      <th>Cantidad</th>\n",
       "    </tr>\n",
       "  </thead>\n",
       "  <tbody>\n",
       "    <tr>\n",
       "      <th>704</th>\n",
       "      <td>10/02/2018 12:00:00 AM</td>\n",
       "      <td>CAQUETÁ</td>\n",
       "      <td>FLORENCIA (CT)</td>\n",
       "      <td>Sábado</td>\n",
       "      <td>1:20:00</td>\n",
       "      <td>RICAURTE</td>\n",
       "      <td>URBANA</td>\n",
       "      <td>HOTELES, RESIDENCIAS, Y SIMILARES.</td>\n",
       "      <td>CONTUNDENTES</td>\n",
       "      <td>A PIE</td>\n",
       "      <td>A PIE</td>\n",
       "      <td>1.0</td>\n",
       "      <td>FEMENINO</td>\n",
       "      <td>SOLTERO</td>\n",
       "      <td>COLOMBIA</td>\n",
       "      <td>DESEMPLEADO</td>\n",
       "      <td>-</td>\n",
       "      <td>ANALFABETA</td>\n",
       "      <td>18001000.0</td>\n",
       "      <td>1</td>\n",
       "    </tr>\n",
       "    <tr>\n",
       "      <th>2871</th>\n",
       "      <td>12/07/2018 12:00:00 AM</td>\n",
       "      <td>ANTIOQUIA</td>\n",
       "      <td>APARTADÓ</td>\n",
       "      <td>Jueves</td>\n",
       "      <td>0:00:00</td>\n",
       "      <td>OBRERO</td>\n",
       "      <td>URBANA</td>\n",
       "      <td>CASAS DE HABITACION</td>\n",
       "      <td>CONTUNDENTES</td>\n",
       "      <td>A PIE</td>\n",
       "      <td>A PIE</td>\n",
       "      <td>1.0</td>\n",
       "      <td>FEMENINO</td>\n",
       "      <td>SOLTERO</td>\n",
       "      <td>COLOMBIA</td>\n",
       "      <td>INDEPENDIENTE</td>\n",
       "      <td>-</td>\n",
       "      <td>NO REPORTADO</td>\n",
       "      <td>5045000.0</td>\n",
       "      <td>1</td>\n",
       "    </tr>\n",
       "  </tbody>\n",
       "</table>\n",
       "</div>"
      ],
      "text/plain": [
       "                       Fecha Departamento       Municipio     Día     Hora  \\\n",
       "704   10/02/2018 12:00:00 AM      CAQUETÁ  FLORENCIA (CT)  Sábado  1:20:00   \n",
       "2871  12/07/2018 12:00:00 AM    ANTIOQUIA        APARTADÓ  Jueves  0:00:00   \n",
       "\n",
       "        Barrio    Zona                      Clase de sitio Arma empleada  \\\n",
       "704   RICAURTE  URBANA  HOTELES, RESIDENCIAS, Y SIMILARES.  CONTUNDENTES   \n",
       "2871    OBRERO  URBANA                 CASAS DE HABITACION  CONTUNDENTES   \n",
       "\n",
       "     Móvil Agresor Móvil Victima  Edad      Sexo Estado civil  \\\n",
       "704          A PIE         A PIE   1.0  FEMENINO      SOLTERO   \n",
       "2871         A PIE         A PIE   1.0  FEMENINO      SOLTERO   \n",
       "\n",
       "     País de nacimiento Clase de empleado Profesión   Escolaridad  \\\n",
       "704            COLOMBIA       DESEMPLEADO         -    ANALFABETA   \n",
       "2871           COLOMBIA     INDEPENDIENTE         -  NO REPORTADO   \n",
       "\n",
       "      Código DANE  Cantidad  \n",
       "704    18001000.0         1  \n",
       "2871    5045000.0         1  "
      ]
     },
     "execution_count": 22,
     "metadata": {},
     "output_type": "execute_result"
    }
   ],
   "source": [
    "homicidios_2018[homicidios_2018['Edad'] == 1]"
   ]
  },
  {
   "cell_type": "code",
   "execution_count": 23,
   "metadata": {},
   "outputs": [
    {
     "data": {
      "text/html": [
       "<div>\n",
       "<style scoped>\n",
       "    .dataframe tbody tr th:only-of-type {\n",
       "        vertical-align: middle;\n",
       "    }\n",
       "\n",
       "    .dataframe tbody tr th {\n",
       "        vertical-align: top;\n",
       "    }\n",
       "\n",
       "    .dataframe thead th {\n",
       "        text-align: right;\n",
       "    }\n",
       "</style>\n",
       "<table border=\"1\" class=\"dataframe\">\n",
       "  <thead>\n",
       "    <tr style=\"text-align: right;\">\n",
       "      <th></th>\n",
       "      <th>Fecha</th>\n",
       "      <th>Departamento</th>\n",
       "      <th>Municipio</th>\n",
       "      <th>Día</th>\n",
       "      <th>Hora</th>\n",
       "      <th>Barrio</th>\n",
       "      <th>Zona</th>\n",
       "      <th>Clase de sitio</th>\n",
       "      <th>Arma empleada</th>\n",
       "      <th>Móvil Agresor</th>\n",
       "      <th>Móvil Victima</th>\n",
       "      <th>Edad</th>\n",
       "      <th>Sexo</th>\n",
       "      <th>Estado civil</th>\n",
       "      <th>País de nacimiento</th>\n",
       "      <th>Clase de empleado</th>\n",
       "      <th>Profesión</th>\n",
       "      <th>Escolaridad</th>\n",
       "      <th>Código DANE</th>\n",
       "      <th>Cantidad</th>\n",
       "    </tr>\n",
       "  </thead>\n",
       "  <tbody>\n",
       "    <tr>\n",
       "      <th>0</th>\n",
       "      <td>01/01/2018 12:00:00 AM</td>\n",
       "      <td>AMAZONAS</td>\n",
       "      <td>LETICIA (CT)</td>\n",
       "      <td>Lunes</td>\n",
       "      <td>9:45:00</td>\n",
       "      <td>ESPERANZA</td>\n",
       "      <td>URBANA</td>\n",
       "      <td>VIAS PUBLICAS</td>\n",
       "      <td>ARMA BLANCA / CORTOPUNZANTE</td>\n",
       "      <td>A PIE</td>\n",
       "      <td>A PIE</td>\n",
       "      <td>16.0</td>\n",
       "      <td>MASCULINO</td>\n",
       "      <td>SOLTERO</td>\n",
       "      <td>BRASIL</td>\n",
       "      <td>EMPLEADO PARTICULAR</td>\n",
       "      <td>-</td>\n",
       "      <td>SECUNDARIA</td>\n",
       "      <td>91001000.0</td>\n",
       "      <td>1</td>\n",
       "    </tr>\n",
       "    <tr>\n",
       "      <th>1</th>\n",
       "      <td>01/01/2018 12:00:00 AM</td>\n",
       "      <td>AMAZONAS</td>\n",
       "      <td>LETICIA (CT)</td>\n",
       "      <td>Lunes</td>\n",
       "      <td>9:45:00</td>\n",
       "      <td>ESPERANZA</td>\n",
       "      <td>URBANA</td>\n",
       "      <td>VIAS PUBLICAS</td>\n",
       "      <td>ARMA BLANCA / CORTOPUNZANTE</td>\n",
       "      <td>A PIE</td>\n",
       "      <td>A PIE</td>\n",
       "      <td>17.0</td>\n",
       "      <td>MASCULINO</td>\n",
       "      <td>SOLTERO</td>\n",
       "      <td>BRASIL</td>\n",
       "      <td>EMPLEADO PARTICULAR</td>\n",
       "      <td>-</td>\n",
       "      <td>SECUNDARIA</td>\n",
       "      <td>91001000.0</td>\n",
       "      <td>1</td>\n",
       "    </tr>\n",
       "    <tr>\n",
       "      <th>2</th>\n",
       "      <td>01/01/2018 12:00:00 AM</td>\n",
       "      <td>ANTIOQUIA</td>\n",
       "      <td>ANDES</td>\n",
       "      <td>Lunes</td>\n",
       "      <td>8:30:00</td>\n",
       "      <td>ALTO DEL CEDRON</td>\n",
       "      <td>RURAL</td>\n",
       "      <td>VIAS PUBLICAS</td>\n",
       "      <td>ARMA DE FUEGO</td>\n",
       "      <td>A PIE</td>\n",
       "      <td>A PIE</td>\n",
       "      <td>26.0</td>\n",
       "      <td>MASCULINO</td>\n",
       "      <td>SOLTERO</td>\n",
       "      <td>COLOMBIA</td>\n",
       "      <td>INDEPENDIENTE</td>\n",
       "      <td>-</td>\n",
       "      <td>PRIMARIA</td>\n",
       "      <td>5034000.0</td>\n",
       "      <td>1</td>\n",
       "    </tr>\n",
       "    <tr>\n",
       "      <th>3</th>\n",
       "      <td>01/01/2018 12:00:00 AM</td>\n",
       "      <td>ANTIOQUIA</td>\n",
       "      <td>ANDES</td>\n",
       "      <td>Lunes</td>\n",
       "      <td>2:30:00</td>\n",
       "      <td>PARQUE PRINCIPAL</td>\n",
       "      <td>RURAL</td>\n",
       "      <td>PARQUES</td>\n",
       "      <td>ARMA BLANCA / CORTOPUNZANTE</td>\n",
       "      <td>A PIE</td>\n",
       "      <td>A PIE</td>\n",
       "      <td>30.0</td>\n",
       "      <td>MASCULINO</td>\n",
       "      <td>SOLTERO</td>\n",
       "      <td>COLOMBIA</td>\n",
       "      <td>AGRICULTOR</td>\n",
       "      <td>-</td>\n",
       "      <td>PRIMARIA</td>\n",
       "      <td>5034000.0</td>\n",
       "      <td>1</td>\n",
       "    </tr>\n",
       "    <tr>\n",
       "      <th>...</th>\n",
       "      <td>...</td>\n",
       "      <td>...</td>\n",
       "      <td>...</td>\n",
       "      <td>...</td>\n",
       "      <td>...</td>\n",
       "      <td>...</td>\n",
       "      <td>...</td>\n",
       "      <td>...</td>\n",
       "      <td>...</td>\n",
       "      <td>...</td>\n",
       "      <td>...</td>\n",
       "      <td>...</td>\n",
       "      <td>...</td>\n",
       "      <td>...</td>\n",
       "      <td>...</td>\n",
       "      <td>...</td>\n",
       "      <td>...</td>\n",
       "      <td>...</td>\n",
       "      <td>...</td>\n",
       "      <td>...</td>\n",
       "    </tr>\n",
       "    <tr>\n",
       "      <th>4960</th>\n",
       "      <td>12/12/2018 12:00:00 AM</td>\n",
       "      <td>SANTANDER</td>\n",
       "      <td>BARRANCABERMEJA</td>\n",
       "      <td>Miércoles</td>\n",
       "      <td>20:09:00</td>\n",
       "      <td>MIRADORES DEL CACIQUE</td>\n",
       "      <td>URBANA</td>\n",
       "      <td>VIAS PUBLICAS</td>\n",
       "      <td>ARMA DE FUEGO</td>\n",
       "      <td>PASAJERO MOTOCICLETA</td>\n",
       "      <td>A PIE</td>\n",
       "      <td>58.0</td>\n",
       "      <td>MASCULINO</td>\n",
       "      <td>SOLTERO</td>\n",
       "      <td>COLOMBIA</td>\n",
       "      <td>EMPLEADO PARTICULAR</td>\n",
       "      <td>-</td>\n",
       "      <td>PRIMARIA</td>\n",
       "      <td>68081000.0</td>\n",
       "      <td>1</td>\n",
       "    </tr>\n",
       "    <tr>\n",
       "      <th>4961</th>\n",
       "      <td>12/12/2018 12:00:00 AM</td>\n",
       "      <td>VALLE</td>\n",
       "      <td>CALI (CT)</td>\n",
       "      <td>Miércoles</td>\n",
       "      <td>19:47:00</td>\n",
       "      <td>REPUBLICA ISRAEL E16</td>\n",
       "      <td>URBANA</td>\n",
       "      <td>VIAS PUBLICAS</td>\n",
       "      <td>ARMA DE FUEGO</td>\n",
       "      <td>A PIE</td>\n",
       "      <td>A PIE</td>\n",
       "      <td>32.0</td>\n",
       "      <td>FEMENINO</td>\n",
       "      <td>SOLTERO</td>\n",
       "      <td>COLOMBIA</td>\n",
       "      <td>AMA DE CASA</td>\n",
       "      <td>-</td>\n",
       "      <td>SECUNDARIA</td>\n",
       "      <td>76001000.0</td>\n",
       "      <td>1</td>\n",
       "    </tr>\n",
       "    <tr>\n",
       "      <th>4962</th>\n",
       "      <td>12/12/2018 12:00:00 AM</td>\n",
       "      <td>VALLE</td>\n",
       "      <td>CALI (CT)</td>\n",
       "      <td>Miércoles</td>\n",
       "      <td>19:47:00</td>\n",
       "      <td>REPUBLICA ISRAEL E16</td>\n",
       "      <td>URBANA</td>\n",
       "      <td>VIAS PUBLICAS</td>\n",
       "      <td>ARMA DE FUEGO</td>\n",
       "      <td>A PIE</td>\n",
       "      <td>A PIE</td>\n",
       "      <td>39.0</td>\n",
       "      <td>MASCULINO</td>\n",
       "      <td>SOLTERO</td>\n",
       "      <td>COLOMBIA</td>\n",
       "      <td>EMPLEADO PARTICULAR</td>\n",
       "      <td>-</td>\n",
       "      <td>SECUNDARIA</td>\n",
       "      <td>76001000.0</td>\n",
       "      <td>1</td>\n",
       "    </tr>\n",
       "    <tr>\n",
       "      <th>4963</th>\n",
       "      <td>12/12/2018 12:00:00 AM</td>\n",
       "      <td>VALLE</td>\n",
       "      <td>GUADALAJARA DE BUGA</td>\n",
       "      <td>Miércoles</td>\n",
       "      <td>17:45:00</td>\n",
       "      <td>CORR. CHAMBIMBAL/CAMPIÑ</td>\n",
       "      <td>RURAL</td>\n",
       "      <td>FINCAS Y SIMILARES</td>\n",
       "      <td>ARMA BLANCA / CORTOPUNZANTE</td>\n",
       "      <td>A PIE</td>\n",
       "      <td>A PIE</td>\n",
       "      <td>16.0</td>\n",
       "      <td>MASCULINO</td>\n",
       "      <td>SOLTERO</td>\n",
       "      <td>COLOMBIA</td>\n",
       "      <td>DESEMPLEADO</td>\n",
       "      <td>-</td>\n",
       "      <td>SECUNDARIA</td>\n",
       "      <td>76111000.0</td>\n",
       "      <td>1</td>\n",
       "    </tr>\n",
       "  </tbody>\n",
       "</table>\n",
       "<p>4964 rows × 20 columns</p>\n",
       "</div>"
      ],
      "text/plain": [
       "                       Fecha Departamento            Municipio        Día  \\\n",
       "0     01/01/2018 12:00:00 AM     AMAZONAS         LETICIA (CT)      Lunes   \n",
       "1     01/01/2018 12:00:00 AM     AMAZONAS         LETICIA (CT)      Lunes   \n",
       "2     01/01/2018 12:00:00 AM    ANTIOQUIA                ANDES      Lunes   \n",
       "3     01/01/2018 12:00:00 AM    ANTIOQUIA                ANDES      Lunes   \n",
       "...                      ...          ...                  ...        ...   \n",
       "4960  12/12/2018 12:00:00 AM    SANTANDER      BARRANCABERMEJA  Miércoles   \n",
       "4961  12/12/2018 12:00:00 AM        VALLE            CALI (CT)  Miércoles   \n",
       "4962  12/12/2018 12:00:00 AM        VALLE            CALI (CT)  Miércoles   \n",
       "4963  12/12/2018 12:00:00 AM        VALLE  GUADALAJARA DE BUGA  Miércoles   \n",
       "\n",
       "          Hora                   Barrio    Zona      Clase de sitio  \\\n",
       "0      9:45:00                ESPERANZA  URBANA       VIAS PUBLICAS   \n",
       "1      9:45:00                ESPERANZA  URBANA       VIAS PUBLICAS   \n",
       "2      8:30:00          ALTO DEL CEDRON   RURAL       VIAS PUBLICAS   \n",
       "3      2:30:00         PARQUE PRINCIPAL   RURAL             PARQUES   \n",
       "...        ...                      ...     ...                 ...   \n",
       "4960  20:09:00    MIRADORES DEL CACIQUE  URBANA       VIAS PUBLICAS   \n",
       "4961  19:47:00     REPUBLICA ISRAEL E16  URBANA       VIAS PUBLICAS   \n",
       "4962  19:47:00     REPUBLICA ISRAEL E16  URBANA       VIAS PUBLICAS   \n",
       "4963  17:45:00  CORR. CHAMBIMBAL/CAMPIÑ   RURAL  FINCAS Y SIMILARES   \n",
       "\n",
       "                    Arma empleada         Móvil Agresor Móvil Victima  Edad  \\\n",
       "0     ARMA BLANCA / CORTOPUNZANTE                 A PIE         A PIE  16.0   \n",
       "1     ARMA BLANCA / CORTOPUNZANTE                 A PIE         A PIE  17.0   \n",
       "2                   ARMA DE FUEGO                 A PIE         A PIE  26.0   \n",
       "3     ARMA BLANCA / CORTOPUNZANTE                 A PIE         A PIE  30.0   \n",
       "...                           ...                   ...           ...   ...   \n",
       "4960                ARMA DE FUEGO  PASAJERO MOTOCICLETA         A PIE  58.0   \n",
       "4961                ARMA DE FUEGO                 A PIE         A PIE  32.0   \n",
       "4962                ARMA DE FUEGO                 A PIE         A PIE  39.0   \n",
       "4963  ARMA BLANCA / CORTOPUNZANTE                 A PIE         A PIE  16.0   \n",
       "\n",
       "           Sexo Estado civil País de nacimiento    Clase de empleado  \\\n",
       "0     MASCULINO      SOLTERO             BRASIL  EMPLEADO PARTICULAR   \n",
       "1     MASCULINO      SOLTERO             BRASIL  EMPLEADO PARTICULAR   \n",
       "2     MASCULINO      SOLTERO           COLOMBIA        INDEPENDIENTE   \n",
       "3     MASCULINO      SOLTERO           COLOMBIA           AGRICULTOR   \n",
       "...         ...          ...                ...                  ...   \n",
       "4960  MASCULINO      SOLTERO           COLOMBIA  EMPLEADO PARTICULAR   \n",
       "4961   FEMENINO      SOLTERO           COLOMBIA          AMA DE CASA   \n",
       "4962  MASCULINO      SOLTERO           COLOMBIA  EMPLEADO PARTICULAR   \n",
       "4963  MASCULINO      SOLTERO           COLOMBIA          DESEMPLEADO   \n",
       "\n",
       "     Profesión Escolaridad  Código DANE  Cantidad  \n",
       "0            -  SECUNDARIA   91001000.0         1  \n",
       "1            -  SECUNDARIA   91001000.0         1  \n",
       "2            -    PRIMARIA    5034000.0         1  \n",
       "3            -    PRIMARIA    5034000.0         1  \n",
       "...        ...         ...          ...       ...  \n",
       "4960         -    PRIMARIA   68081000.0         1  \n",
       "4961         -  SECUNDARIA   76001000.0         1  \n",
       "4962         -  SECUNDARIA   76001000.0         1  \n",
       "4963         -  SECUNDARIA   76111000.0         1  \n",
       "\n",
       "[4964 rows x 20 columns]"
      ]
     },
     "execution_count": 23,
     "metadata": {},
     "output_type": "execute_result"
    }
   ],
   "source": [
    "# Given that these details seem no ideal, then I condider deleting this row.\n",
    "homicidios_2018 = homicidios_2018.drop(homicidios_2018.index[2871])\n",
    "homicidios_2018.reset_index(drop=True)"
   ]
  },
  {
   "cell_type": "code",
   "execution_count": 24,
   "metadata": {
    "scrolled": true
   },
   "outputs": [
    {
     "data": {
      "text/plain": [
       "False    4963\n",
       "True        1\n",
       "Name: Edad, dtype: int64"
      ]
     },
     "execution_count": 24,
     "metadata": {},
     "output_type": "execute_result"
    }
   ],
   "source": [
    "(homicidios_2018['Edad'] >= 90).value_counts()"
   ]
  },
  {
   "cell_type": "code",
   "execution_count": 25,
   "metadata": {
    "scrolled": true
   },
   "outputs": [
    {
     "data": {
      "text/html": [
       "<div>\n",
       "<style scoped>\n",
       "    .dataframe tbody tr th:only-of-type {\n",
       "        vertical-align: middle;\n",
       "    }\n",
       "\n",
       "    .dataframe tbody tr th {\n",
       "        vertical-align: top;\n",
       "    }\n",
       "\n",
       "    .dataframe thead th {\n",
       "        text-align: right;\n",
       "    }\n",
       "</style>\n",
       "<table border=\"1\" class=\"dataframe\">\n",
       "  <thead>\n",
       "    <tr style=\"text-align: right;\">\n",
       "      <th></th>\n",
       "      <th>Fecha</th>\n",
       "      <th>Departamento</th>\n",
       "      <th>Municipio</th>\n",
       "      <th>Día</th>\n",
       "      <th>Hora</th>\n",
       "      <th>Barrio</th>\n",
       "      <th>Zona</th>\n",
       "      <th>Clase de sitio</th>\n",
       "      <th>Arma empleada</th>\n",
       "      <th>Móvil Agresor</th>\n",
       "      <th>Móvil Victima</th>\n",
       "      <th>Edad</th>\n",
       "      <th>Sexo</th>\n",
       "      <th>Estado civil</th>\n",
       "      <th>País de nacimiento</th>\n",
       "      <th>Clase de empleado</th>\n",
       "      <th>Profesión</th>\n",
       "      <th>Escolaridad</th>\n",
       "      <th>Código DANE</th>\n",
       "      <th>Cantidad</th>\n",
       "    </tr>\n",
       "  </thead>\n",
       "  <tbody>\n",
       "    <tr>\n",
       "      <th>135</th>\n",
       "      <td>03/01/2018 12:00:00 AM</td>\n",
       "      <td>RISARALDA</td>\n",
       "      <td>SANTA ROSA DE CABAL</td>\n",
       "      <td>Miércoles</td>\n",
       "      <td>20:50:00</td>\n",
       "      <td>CORREGIMIENTO LA CAPILLA</td>\n",
       "      <td>RURAL</td>\n",
       "      <td>FINCAS Y SIMILARES</td>\n",
       "      <td>CONTUNDENTES</td>\n",
       "      <td>A PIE</td>\n",
       "      <td>A PIE</td>\n",
       "      <td>83.0</td>\n",
       "      <td>MASCULINO</td>\n",
       "      <td>SEPARADO</td>\n",
       "      <td>COLOMBIA</td>\n",
       "      <td>INDEPENDIENTE</td>\n",
       "      <td>-</td>\n",
       "      <td>PRIMARIA</td>\n",
       "      <td>66682000.0</td>\n",
       "      <td>1</td>\n",
       "    </tr>\n",
       "    <tr>\n",
       "      <th>648</th>\n",
       "      <td>08/02/2018 12:00:00 AM</td>\n",
       "      <td>VALLE</td>\n",
       "      <td>CALI (CT)</td>\n",
       "      <td>Jueves</td>\n",
       "      <td>12:45:00</td>\n",
       "      <td>LOS CONQUISTADORES E11</td>\n",
       "      <td>URBANA</td>\n",
       "      <td>RESTAURANTES</td>\n",
       "      <td>ARMA DE FUEGO</td>\n",
       "      <td>A PIE</td>\n",
       "      <td>A PIE</td>\n",
       "      <td>83.0</td>\n",
       "      <td>MASCULINO</td>\n",
       "      <td>VIUDO</td>\n",
       "      <td>COLOMBIA</td>\n",
       "      <td>INDEPENDIENTE</td>\n",
       "      <td>-</td>\n",
       "      <td>SECUNDARIA</td>\n",
       "      <td>76001000.0</td>\n",
       "      <td>1</td>\n",
       "    </tr>\n",
       "    <tr>\n",
       "      <th>873</th>\n",
       "      <td>02/03/2018 12:00:00 AM</td>\n",
       "      <td>BOYACÁ</td>\n",
       "      <td>SOGAMOSO</td>\n",
       "      <td>Viernes</td>\n",
       "      <td>23:20:00</td>\n",
       "      <td>CENTRO</td>\n",
       "      <td>URBANA</td>\n",
       "      <td>CASAS DE HABITACION</td>\n",
       "      <td>CONTUNDENTES</td>\n",
       "      <td>A PIE</td>\n",
       "      <td>A PIE</td>\n",
       "      <td>80.0</td>\n",
       "      <td>MASCULINO</td>\n",
       "      <td>CASADO</td>\n",
       "      <td>COLOMBIA</td>\n",
       "      <td>PENSIONADO</td>\n",
       "      <td>-</td>\n",
       "      <td>SECUNDARIA</td>\n",
       "      <td>15759000.0</td>\n",
       "      <td>1</td>\n",
       "    </tr>\n",
       "    <tr>\n",
       "      <th>987</th>\n",
       "      <td>05/03/2018 12:00:00 AM</td>\n",
       "      <td>CAUCA</td>\n",
       "      <td>PUERTO TEJADA</td>\n",
       "      <td>Lunes</td>\n",
       "      <td>10:30:00</td>\n",
       "      <td>CARLOS ALBERTO GUZMAN</td>\n",
       "      <td>URBANA</td>\n",
       "      <td>VIAS PUBLICAS</td>\n",
       "      <td>ARMA DE FUEGO</td>\n",
       "      <td>A PIE</td>\n",
       "      <td>A PIE</td>\n",
       "      <td>83.0</td>\n",
       "      <td>FEMENINO</td>\n",
       "      <td>VIUDO</td>\n",
       "      <td>COLOMBIA</td>\n",
       "      <td>INDEPENDIENTE</td>\n",
       "      <td>-</td>\n",
       "      <td>PRIMARIA</td>\n",
       "      <td>19573000.0</td>\n",
       "      <td>1</td>\n",
       "    </tr>\n",
       "    <tr>\n",
       "      <th>...</th>\n",
       "      <td>...</td>\n",
       "      <td>...</td>\n",
       "      <td>...</td>\n",
       "      <td>...</td>\n",
       "      <td>...</td>\n",
       "      <td>...</td>\n",
       "      <td>...</td>\n",
       "      <td>...</td>\n",
       "      <td>...</td>\n",
       "      <td>...</td>\n",
       "      <td>...</td>\n",
       "      <td>...</td>\n",
       "      <td>...</td>\n",
       "      <td>...</td>\n",
       "      <td>...</td>\n",
       "      <td>...</td>\n",
       "      <td>...</td>\n",
       "      <td>...</td>\n",
       "      <td>...</td>\n",
       "      <td>...</td>\n",
       "    </tr>\n",
       "    <tr>\n",
       "      <th>4213</th>\n",
       "      <td>04/11/2018 12:00:00 AM</td>\n",
       "      <td>NARIÑO</td>\n",
       "      <td>IPIALES</td>\n",
       "      <td>Domingo</td>\n",
       "      <td>18:00:00</td>\n",
       "      <td>CHAMPAGTH</td>\n",
       "      <td>URBANA</td>\n",
       "      <td>VIAS PUBLICAS</td>\n",
       "      <td>ARMA BLANCA / CORTOPUNZANTE</td>\n",
       "      <td>A PIE</td>\n",
       "      <td>A PIE</td>\n",
       "      <td>80.0</td>\n",
       "      <td>MASCULINO</td>\n",
       "      <td>SOLTERO</td>\n",
       "      <td>COLOMBIA</td>\n",
       "      <td>PENSIONADO</td>\n",
       "      <td>-</td>\n",
       "      <td>SECUNDARIA</td>\n",
       "      <td>52356000.0</td>\n",
       "      <td>1</td>\n",
       "    </tr>\n",
       "    <tr>\n",
       "      <th>4326</th>\n",
       "      <td>08/11/2018 12:00:00 AM</td>\n",
       "      <td>HUILA</td>\n",
       "      <td>PITALITO</td>\n",
       "      <td>Jueves</td>\n",
       "      <td>10:00:00</td>\n",
       "      <td>GUADUALES</td>\n",
       "      <td>URBANA</td>\n",
       "      <td>CASAS DE HABITACION</td>\n",
       "      <td>CONTUNDENTES</td>\n",
       "      <td>A PIE</td>\n",
       "      <td>A PIE</td>\n",
       "      <td>88.0</td>\n",
       "      <td>FEMENINO</td>\n",
       "      <td>SOLTERO</td>\n",
       "      <td>COLOMBIA</td>\n",
       "      <td>EMPLEADO PARTICULAR</td>\n",
       "      <td>NO REPORTADA</td>\n",
       "      <td>PRIMARIA</td>\n",
       "      <td>41551000.0</td>\n",
       "      <td>1</td>\n",
       "    </tr>\n",
       "    <tr>\n",
       "      <th>4657</th>\n",
       "      <td>05/12/2018 12:00:00 AM</td>\n",
       "      <td>ANTIOQUIA</td>\n",
       "      <td>RIONEGRO</td>\n",
       "      <td>Miércoles</td>\n",
       "      <td>17:30:00</td>\n",
       "      <td>EL LLANITO</td>\n",
       "      <td>URBANA</td>\n",
       "      <td>VIAS PUBLICAS</td>\n",
       "      <td>CONTUNDENTES</td>\n",
       "      <td>A PIE</td>\n",
       "      <td>A PIE</td>\n",
       "      <td>86.0</td>\n",
       "      <td>MASCULINO</td>\n",
       "      <td>CASADO</td>\n",
       "      <td>COLOMBIA</td>\n",
       "      <td>EMPLEADO PARTICULAR</td>\n",
       "      <td>-</td>\n",
       "      <td>SECUNDARIA</td>\n",
       "      <td>5615000.0</td>\n",
       "      <td>1</td>\n",
       "    </tr>\n",
       "    <tr>\n",
       "      <th>4802</th>\n",
       "      <td>08/12/2018 12:00:00 AM</td>\n",
       "      <td>SANTANDER</td>\n",
       "      <td>GIRÓN</td>\n",
       "      <td>Sábado</td>\n",
       "      <td>18:00:00</td>\n",
       "      <td>HACIENDA LA MESETA</td>\n",
       "      <td>URBANA</td>\n",
       "      <td>CASAS DE HABITACION</td>\n",
       "      <td>CONTUNDENTES</td>\n",
       "      <td>A PIE</td>\n",
       "      <td>A PIE</td>\n",
       "      <td>80.0</td>\n",
       "      <td>MASCULINO</td>\n",
       "      <td>VIUDO</td>\n",
       "      <td>COLOMBIA</td>\n",
       "      <td>PENSIONADO</td>\n",
       "      <td>-</td>\n",
       "      <td>PRIMARIA</td>\n",
       "      <td>68307000.0</td>\n",
       "      <td>1</td>\n",
       "    </tr>\n",
       "  </tbody>\n",
       "</table>\n",
       "<p>21 rows × 20 columns</p>\n",
       "</div>"
      ],
      "text/plain": [
       "                       Fecha Departamento            Municipio        Día  \\\n",
       "135   03/01/2018 12:00:00 AM    RISARALDA  SANTA ROSA DE CABAL  Miércoles   \n",
       "648   08/02/2018 12:00:00 AM        VALLE            CALI (CT)     Jueves   \n",
       "873   02/03/2018 12:00:00 AM       BOYACÁ             SOGAMOSO    Viernes   \n",
       "987   05/03/2018 12:00:00 AM        CAUCA        PUERTO TEJADA      Lunes   \n",
       "...                      ...          ...                  ...        ...   \n",
       "4213  04/11/2018 12:00:00 AM       NARIÑO              IPIALES    Domingo   \n",
       "4326  08/11/2018 12:00:00 AM        HUILA             PITALITO     Jueves   \n",
       "4657  05/12/2018 12:00:00 AM    ANTIOQUIA             RIONEGRO  Miércoles   \n",
       "4802  08/12/2018 12:00:00 AM    SANTANDER                GIRÓN     Sábado   \n",
       "\n",
       "          Hora                    Barrio    Zona       Clase de sitio  \\\n",
       "135   20:50:00  CORREGIMIENTO LA CAPILLA   RURAL   FINCAS Y SIMILARES   \n",
       "648   12:45:00    LOS CONQUISTADORES E11  URBANA         RESTAURANTES   \n",
       "873   23:20:00                    CENTRO  URBANA  CASAS DE HABITACION   \n",
       "987   10:30:00     CARLOS ALBERTO GUZMAN  URBANA        VIAS PUBLICAS   \n",
       "...        ...                       ...     ...                  ...   \n",
       "4213  18:00:00                 CHAMPAGTH  URBANA        VIAS PUBLICAS   \n",
       "4326  10:00:00                 GUADUALES  URBANA  CASAS DE HABITACION   \n",
       "4657  17:30:00                EL LLANITO  URBANA        VIAS PUBLICAS   \n",
       "4802  18:00:00        HACIENDA LA MESETA  URBANA  CASAS DE HABITACION   \n",
       "\n",
       "                    Arma empleada Móvil Agresor Móvil Victima  Edad  \\\n",
       "135                  CONTUNDENTES         A PIE         A PIE  83.0   \n",
       "648                 ARMA DE FUEGO         A PIE         A PIE  83.0   \n",
       "873                  CONTUNDENTES         A PIE         A PIE  80.0   \n",
       "987                 ARMA DE FUEGO         A PIE         A PIE  83.0   \n",
       "...                           ...           ...           ...   ...   \n",
       "4213  ARMA BLANCA / CORTOPUNZANTE         A PIE         A PIE  80.0   \n",
       "4326                 CONTUNDENTES         A PIE         A PIE  88.0   \n",
       "4657                 CONTUNDENTES         A PIE         A PIE  86.0   \n",
       "4802                 CONTUNDENTES         A PIE         A PIE  80.0   \n",
       "\n",
       "           Sexo Estado civil País de nacimiento    Clase de empleado  \\\n",
       "135   MASCULINO     SEPARADO           COLOMBIA        INDEPENDIENTE   \n",
       "648   MASCULINO        VIUDO           COLOMBIA        INDEPENDIENTE   \n",
       "873   MASCULINO       CASADO           COLOMBIA           PENSIONADO   \n",
       "987    FEMENINO        VIUDO           COLOMBIA        INDEPENDIENTE   \n",
       "...         ...          ...                ...                  ...   \n",
       "4213  MASCULINO      SOLTERO           COLOMBIA           PENSIONADO   \n",
       "4326   FEMENINO      SOLTERO           COLOMBIA  EMPLEADO PARTICULAR   \n",
       "4657  MASCULINO       CASADO           COLOMBIA  EMPLEADO PARTICULAR   \n",
       "4802  MASCULINO        VIUDO           COLOMBIA           PENSIONADO   \n",
       "\n",
       "         Profesión Escolaridad  Código DANE  Cantidad  \n",
       "135              -    PRIMARIA   66682000.0         1  \n",
       "648              -  SECUNDARIA   76001000.0         1  \n",
       "873              -  SECUNDARIA   15759000.0         1  \n",
       "987              -    PRIMARIA   19573000.0         1  \n",
       "...            ...         ...          ...       ...  \n",
       "4213             -  SECUNDARIA   52356000.0         1  \n",
       "4326  NO REPORTADA    PRIMARIA   41551000.0         1  \n",
       "4657             -  SECUNDARIA    5615000.0         1  \n",
       "4802             -    PRIMARIA   68307000.0         1  \n",
       "\n",
       "[21 rows x 20 columns]"
      ]
     },
     "execution_count": 25,
     "metadata": {},
     "output_type": "execute_result"
    }
   ],
   "source": [
    "homicidios_2018[homicidios_2018['Edad']>=80]"
   ]
  },
  {
   "cell_type": "code",
   "execution_count": 26,
   "metadata": {},
   "outputs": [
    {
     "data": {
      "text/plain": [
       "MASCULINO    4555\n",
       "FEMENINO      409\n",
       "Name: Sexo, dtype: int64"
      ]
     },
     "execution_count": 26,
     "metadata": {},
     "output_type": "execute_result"
    }
   ],
   "source": [
    "homicidios_2018['Sexo'].value_counts()"
   ]
  },
  {
   "cell_type": "code",
   "execution_count": 27,
   "metadata": {
    "scrolled": true
   },
   "outputs": [
    {
     "data": {
      "text/plain": [
       "SOLTERO        3141\n",
       "UNION LIBRE    1502\n",
       "CASADO          241\n",
       "SEPARADO         38\n",
       "DIVORCIADO       17\n",
       "-                13\n",
       "VIUDO            12\n",
       "Name: Estado civil, dtype: int64"
      ]
     },
     "execution_count": 27,
     "metadata": {},
     "output_type": "execute_result"
    }
   ],
   "source": [
    "homicidios_2018['Estado civil'].value_counts()"
   ]
  },
  {
   "cell_type": "code",
   "execution_count": 28,
   "metadata": {
    "scrolled": true
   },
   "outputs": [
    {
     "data": {
      "text/html": [
       "<div>\n",
       "<style scoped>\n",
       "    .dataframe tbody tr th:only-of-type {\n",
       "        vertical-align: middle;\n",
       "    }\n",
       "\n",
       "    .dataframe tbody tr th {\n",
       "        vertical-align: top;\n",
       "    }\n",
       "\n",
       "    .dataframe thead th {\n",
       "        text-align: right;\n",
       "    }\n",
       "</style>\n",
       "<table border=\"1\" class=\"dataframe\">\n",
       "  <thead>\n",
       "    <tr style=\"text-align: right;\">\n",
       "      <th></th>\n",
       "      <th>Fecha</th>\n",
       "      <th>Departamento</th>\n",
       "      <th>Municipio</th>\n",
       "      <th>Día</th>\n",
       "      <th>Hora</th>\n",
       "      <th>Barrio</th>\n",
       "      <th>Zona</th>\n",
       "      <th>Clase de sitio</th>\n",
       "      <th>Arma empleada</th>\n",
       "      <th>Móvil Agresor</th>\n",
       "      <th>Móvil Victima</th>\n",
       "      <th>Edad</th>\n",
       "      <th>Sexo</th>\n",
       "      <th>Estado civil</th>\n",
       "      <th>País de nacimiento</th>\n",
       "      <th>Clase de empleado</th>\n",
       "      <th>Profesión</th>\n",
       "      <th>Escolaridad</th>\n",
       "      <th>Código DANE</th>\n",
       "      <th>Cantidad</th>\n",
       "    </tr>\n",
       "  </thead>\n",
       "  <tbody>\n",
       "    <tr>\n",
       "      <th>870</th>\n",
       "      <td>02/03/2018 12:00:00 AM</td>\n",
       "      <td>ANTIOQUIA</td>\n",
       "      <td>TURBO</td>\n",
       "      <td>Viernes</td>\n",
       "      <td>19:40:00</td>\n",
       "      <td>VDA. BOCAS DE ATRATO</td>\n",
       "      <td>RURAL</td>\n",
       "      <td>FINCAS Y SIMILARES</td>\n",
       "      <td>ARMA DE FUEGO</td>\n",
       "      <td>A PIE</td>\n",
       "      <td>A PIE</td>\n",
       "      <td>22.0</td>\n",
       "      <td>MASCULINO</td>\n",
       "      <td>-</td>\n",
       "      <td>-</td>\n",
       "      <td>NO REPORTA</td>\n",
       "      <td>-</td>\n",
       "      <td>-</td>\n",
       "      <td>5837000.0</td>\n",
       "      <td>1</td>\n",
       "    </tr>\n",
       "    <tr>\n",
       "      <th>982</th>\n",
       "      <td>05/03/2018 12:00:00 AM</td>\n",
       "      <td>ANTIOQUIA</td>\n",
       "      <td>YONDÓ</td>\n",
       "      <td>Lunes</td>\n",
       "      <td>11:30:00</td>\n",
       "      <td>VDA. SANTA CLARA</td>\n",
       "      <td>RURAL</td>\n",
       "      <td>VIAS PUBLICAS</td>\n",
       "      <td>ARMA DE FUEGO</td>\n",
       "      <td>A PIE</td>\n",
       "      <td>A PIE</td>\n",
       "      <td>55.0</td>\n",
       "      <td>MASCULINO</td>\n",
       "      <td>-</td>\n",
       "      <td>-</td>\n",
       "      <td>NO REPORTA</td>\n",
       "      <td>-</td>\n",
       "      <td>-</td>\n",
       "      <td>5893000.0</td>\n",
       "      <td>1</td>\n",
       "    </tr>\n",
       "    <tr>\n",
       "      <th>2213</th>\n",
       "      <td>06/06/2018 12:00:00 AM</td>\n",
       "      <td>ANTIOQUIA</td>\n",
       "      <td>LA ESTRELLA</td>\n",
       "      <td>Miércoles</td>\n",
       "      <td>19:00:00</td>\n",
       "      <td>VDA. EL ROMERAL</td>\n",
       "      <td>RURAL</td>\n",
       "      <td>VIAS PUBLICAS</td>\n",
       "      <td>ARMA DE FUEGO</td>\n",
       "      <td>A PIE</td>\n",
       "      <td>A PIE</td>\n",
       "      <td>30.0</td>\n",
       "      <td>MASCULINO</td>\n",
       "      <td>-</td>\n",
       "      <td>-</td>\n",
       "      <td>NO REPORTA</td>\n",
       "      <td>-</td>\n",
       "      <td>-</td>\n",
       "      <td>5380000.0</td>\n",
       "      <td>1</td>\n",
       "    </tr>\n",
       "    <tr>\n",
       "      <th>2630</th>\n",
       "      <td>05/07/2018 12:00:00 AM</td>\n",
       "      <td>NORTE DE SANTANDER</td>\n",
       "      <td>CÚCUTA (CT)</td>\n",
       "      <td>Jueves</td>\n",
       "      <td>8:30:00</td>\n",
       "      <td>BARRIO LLERAS RESTREPO</td>\n",
       "      <td>URBANA</td>\n",
       "      <td>CANALIZACION</td>\n",
       "      <td>ARMA BLANCA / CORTOPUNZANTE</td>\n",
       "      <td>A PIE</td>\n",
       "      <td>A PIE</td>\n",
       "      <td>28.0</td>\n",
       "      <td>MASCULINO</td>\n",
       "      <td>-</td>\n",
       "      <td>-</td>\n",
       "      <td>NO REPORTA</td>\n",
       "      <td>-</td>\n",
       "      <td>-</td>\n",
       "      <td>54001000.0</td>\n",
       "      <td>1</td>\n",
       "    </tr>\n",
       "    <tr>\n",
       "      <th>...</th>\n",
       "      <td>...</td>\n",
       "      <td>...</td>\n",
       "      <td>...</td>\n",
       "      <td>...</td>\n",
       "      <td>...</td>\n",
       "      <td>...</td>\n",
       "      <td>...</td>\n",
       "      <td>...</td>\n",
       "      <td>...</td>\n",
       "      <td>...</td>\n",
       "      <td>...</td>\n",
       "      <td>...</td>\n",
       "      <td>...</td>\n",
       "      <td>...</td>\n",
       "      <td>...</td>\n",
       "      <td>...</td>\n",
       "      <td>...</td>\n",
       "      <td>...</td>\n",
       "      <td>...</td>\n",
       "      <td>...</td>\n",
       "    </tr>\n",
       "    <tr>\n",
       "      <th>3447</th>\n",
       "      <td>03/09/2018 12:00:00 AM</td>\n",
       "      <td>SANTANDER</td>\n",
       "      <td>BUCARAMANGA (CT)</td>\n",
       "      <td>Lunes</td>\n",
       "      <td>1:41:00</td>\n",
       "      <td>ALARCON</td>\n",
       "      <td>URBANA</td>\n",
       "      <td>VIAS PUBLICAS</td>\n",
       "      <td>ARMA BLANCA / CORTOPUNZANTE</td>\n",
       "      <td>A PIE</td>\n",
       "      <td>A PIE</td>\n",
       "      <td>35.0</td>\n",
       "      <td>MASCULINO</td>\n",
       "      <td>-</td>\n",
       "      <td>COLOMBIA</td>\n",
       "      <td>DESEMPLEADO</td>\n",
       "      <td>-</td>\n",
       "      <td>-</td>\n",
       "      <td>68001000.0</td>\n",
       "      <td>1</td>\n",
       "    </tr>\n",
       "    <tr>\n",
       "      <th>3819</th>\n",
       "      <td>04/10/2018 12:00:00 AM</td>\n",
       "      <td>ARAUCA</td>\n",
       "      <td>TAME</td>\n",
       "      <td>Jueves</td>\n",
       "      <td>16:30:00</td>\n",
       "      <td>VEREDA EL BOTALON</td>\n",
       "      <td>RURAL</td>\n",
       "      <td>CEMENTERIO</td>\n",
       "      <td>ARMA DE FUEGO</td>\n",
       "      <td>PASAJERO MOTOCICLETA</td>\n",
       "      <td>A PIE</td>\n",
       "      <td>26.0</td>\n",
       "      <td>MASCULINO</td>\n",
       "      <td>-</td>\n",
       "      <td>-</td>\n",
       "      <td>NO REPORTA</td>\n",
       "      <td>-</td>\n",
       "      <td>-</td>\n",
       "      <td>81794000.0</td>\n",
       "      <td>1</td>\n",
       "    </tr>\n",
       "    <tr>\n",
       "      <th>3852</th>\n",
       "      <td>05/10/2018 12:00:00 AM</td>\n",
       "      <td>ANTIOQUIA</td>\n",
       "      <td>MEDELLÍN (CT)</td>\n",
       "      <td>Viernes</td>\n",
       "      <td>23:41:00</td>\n",
       "      <td>LA CANDELARIA C-10</td>\n",
       "      <td>URBANA</td>\n",
       "      <td>VIAS PUBLICAS</td>\n",
       "      <td>ARMA BLANCA / CORTOPUNZANTE</td>\n",
       "      <td>A PIE</td>\n",
       "      <td>A PIE</td>\n",
       "      <td>35.0</td>\n",
       "      <td>MASCULINO</td>\n",
       "      <td>-</td>\n",
       "      <td>-</td>\n",
       "      <td>NO REPORTA</td>\n",
       "      <td>-</td>\n",
       "      <td>-</td>\n",
       "      <td>5001000.0</td>\n",
       "      <td>1</td>\n",
       "    </tr>\n",
       "    <tr>\n",
       "      <th>4785</th>\n",
       "      <td>08/12/2018 12:00:00 AM</td>\n",
       "      <td>CUNDINAMARCA</td>\n",
       "      <td>SOACHA</td>\n",
       "      <td>Sábado</td>\n",
       "      <td>11:00:00</td>\n",
       "      <td>LAGOS DE MALIBU</td>\n",
       "      <td>URBANA</td>\n",
       "      <td>VIAS PUBLICAS</td>\n",
       "      <td>ARMA BLANCA / CORTOPUNZANTE</td>\n",
       "      <td>A PIE</td>\n",
       "      <td>A PIE</td>\n",
       "      <td>25.0</td>\n",
       "      <td>MASCULINO</td>\n",
       "      <td>-</td>\n",
       "      <td>-</td>\n",
       "      <td>NO REPORTA</td>\n",
       "      <td>-</td>\n",
       "      <td>-</td>\n",
       "      <td>25754000.0</td>\n",
       "      <td>1</td>\n",
       "    </tr>\n",
       "  </tbody>\n",
       "</table>\n",
       "<p>13 rows × 20 columns</p>\n",
       "</div>"
      ],
      "text/plain": [
       "                       Fecha        Departamento         Municipio        Día  \\\n",
       "870   02/03/2018 12:00:00 AM           ANTIOQUIA             TURBO    Viernes   \n",
       "982   05/03/2018 12:00:00 AM           ANTIOQUIA             YONDÓ      Lunes   \n",
       "2213  06/06/2018 12:00:00 AM           ANTIOQUIA       LA ESTRELLA  Miércoles   \n",
       "2630  05/07/2018 12:00:00 AM  NORTE DE SANTANDER       CÚCUTA (CT)     Jueves   \n",
       "...                      ...                 ...               ...        ...   \n",
       "3447  03/09/2018 12:00:00 AM           SANTANDER  BUCARAMANGA (CT)      Lunes   \n",
       "3819  04/10/2018 12:00:00 AM              ARAUCA              TAME     Jueves   \n",
       "3852  05/10/2018 12:00:00 AM           ANTIOQUIA     MEDELLÍN (CT)    Viernes   \n",
       "4785  08/12/2018 12:00:00 AM        CUNDINAMARCA            SOACHA     Sábado   \n",
       "\n",
       "          Hora                  Barrio    Zona      Clase de sitio  \\\n",
       "870   19:40:00    VDA. BOCAS DE ATRATO   RURAL  FINCAS Y SIMILARES   \n",
       "982   11:30:00        VDA. SANTA CLARA   RURAL       VIAS PUBLICAS   \n",
       "2213  19:00:00         VDA. EL ROMERAL   RURAL       VIAS PUBLICAS   \n",
       "2630   8:30:00  BARRIO LLERAS RESTREPO  URBANA        CANALIZACION   \n",
       "...        ...                     ...     ...                 ...   \n",
       "3447   1:41:00                 ALARCON  URBANA       VIAS PUBLICAS   \n",
       "3819  16:30:00       VEREDA EL BOTALON   RURAL          CEMENTERIO   \n",
       "3852  23:41:00      LA CANDELARIA C-10  URBANA       VIAS PUBLICAS   \n",
       "4785  11:00:00         LAGOS DE MALIBU  URBANA       VIAS PUBLICAS   \n",
       "\n",
       "                    Arma empleada         Móvil Agresor Móvil Victima  Edad  \\\n",
       "870                 ARMA DE FUEGO                 A PIE         A PIE  22.0   \n",
       "982                 ARMA DE FUEGO                 A PIE         A PIE  55.0   \n",
       "2213                ARMA DE FUEGO                 A PIE         A PIE  30.0   \n",
       "2630  ARMA BLANCA / CORTOPUNZANTE                 A PIE         A PIE  28.0   \n",
       "...                           ...                   ...           ...   ...   \n",
       "3447  ARMA BLANCA / CORTOPUNZANTE                 A PIE         A PIE  35.0   \n",
       "3819                ARMA DE FUEGO  PASAJERO MOTOCICLETA         A PIE  26.0   \n",
       "3852  ARMA BLANCA / CORTOPUNZANTE                 A PIE         A PIE  35.0   \n",
       "4785  ARMA BLANCA / CORTOPUNZANTE                 A PIE         A PIE  25.0   \n",
       "\n",
       "           Sexo Estado civil País de nacimiento Clase de empleado Profesión  \\\n",
       "870   MASCULINO            -                  -        NO REPORTA         -   \n",
       "982   MASCULINO            -                  -        NO REPORTA         -   \n",
       "2213  MASCULINO            -                  -        NO REPORTA         -   \n",
       "2630  MASCULINO            -                  -        NO REPORTA         -   \n",
       "...         ...          ...                ...               ...       ...   \n",
       "3447  MASCULINO            -           COLOMBIA       DESEMPLEADO         -   \n",
       "3819  MASCULINO            -                  -        NO REPORTA         -   \n",
       "3852  MASCULINO            -                  -        NO REPORTA         -   \n",
       "4785  MASCULINO            -                  -        NO REPORTA         -   \n",
       "\n",
       "     Escolaridad  Código DANE  Cantidad  \n",
       "870            -    5837000.0         1  \n",
       "982            -    5893000.0         1  \n",
       "2213           -    5380000.0         1  \n",
       "2630           -   54001000.0         1  \n",
       "...          ...          ...       ...  \n",
       "3447           -   68001000.0         1  \n",
       "3819           -   81794000.0         1  \n",
       "3852           -    5001000.0         1  \n",
       "4785           -   25754000.0         1  \n",
       "\n",
       "[13 rows x 20 columns]"
      ]
     },
     "execution_count": 28,
     "metadata": {},
     "output_type": "execute_result"
    }
   ],
   "source": [
    "homicidios_2018[homicidios_2018['Estado civil'] == '-']"
   ]
  },
  {
   "cell_type": "markdown",
   "metadata": {},
   "source": [
    "By analysing 'Estado civil' for missing data, I consider there is no need for deleting these missing rows, these do not represent a critical feature at the momement."
   ]
  },
  {
   "cell_type": "code",
   "execution_count": 29,
   "metadata": {
    "scrolled": true
   },
   "outputs": [
    {
     "data": {
      "text/plain": [
       "COLOMBIA     4828\n",
       "VENEZUELA      91\n",
       "-              35\n",
       "ECUADOR         3\n",
       "             ... \n",
       "NORUEGA         1\n",
       "ESPAÑA          1\n",
       "ITALIA          1\n",
       "PERU            1\n",
       "Name: País de nacimiento, Length: 10, dtype: int64"
      ]
     },
     "execution_count": 29,
     "metadata": {},
     "output_type": "execute_result"
    }
   ],
   "source": [
    "homicidios_2018['País de nacimiento'].value_counts()"
   ]
  },
  {
   "cell_type": "code",
   "execution_count": 30,
   "metadata": {
    "scrolled": true
   },
   "outputs": [
    {
     "data": {
      "text/plain": [
       "EMPLEADO PARTICULAR       1654\n",
       "INDEPENDIENTE             1515\n",
       "DESEMPLEADO                847\n",
       "AGRICULTOR                 331\n",
       "                          ... \n",
       "EMPLEADO ARMADA/MARINA       2\n",
       "DEPORTISTA                   2\n",
       "POLITICO                     1\n",
       "AFRODESCENDIENTE             1\n",
       "Name: Clase de empleado, Length: 25, dtype: int64"
      ]
     },
     "execution_count": 30,
     "metadata": {},
     "output_type": "execute_result"
    }
   ],
   "source": [
    "homicidios_2018['Clase de empleado'].value_counts()"
   ]
  },
  {
   "cell_type": "markdown",
   "metadata": {},
   "source": [
    "'Profesion' is a critical variable given that more than 98% of data contains this piece of information and there is also no reported data whitin this group, this variable does not allow us to develop a proper data analysis"
   ]
  },
  {
   "cell_type": "code",
   "execution_count": 31,
   "metadata": {},
   "outputs": [
    {
     "data": {
      "text/plain": [
       "-                                               4837\n",
       "NO REPORTADA                                      47\n",
       "TECNICO PROFESIONAL EN SERVICIO DE POLICIA        24\n",
       "POLICIAS                                          13\n",
       "                                                ... \n",
       "ADMINISTRACION  POLICIAL                           1\n",
       "PROFESORES DE EDUCACION MEDIA                      1\n",
       "PUBLICIDAD                                         1\n",
       "TECNICO PROFESIONAL EN INGENIERIA INDUSTRIAL       1\n",
       "Name: Profesión, Length: 32, dtype: int64"
      ]
     },
     "execution_count": 31,
     "metadata": {},
     "output_type": "execute_result"
    }
   ],
   "source": [
    "homicidios_2018['Profesión'].value_counts()"
   ]
  },
  {
   "cell_type": "code",
   "execution_count": 32,
   "metadata": {
    "scrolled": true
   },
   "outputs": [
    {
     "data": {
      "text/plain": [
       "True     4837\n",
       "False     127\n",
       "Name: Profesión, dtype: int64"
      ]
     },
     "execution_count": 32,
     "metadata": {},
     "output_type": "execute_result"
    }
   ],
   "source": [
    "(homicidios_2018['Profesión'] == '-').value_counts()"
   ]
  },
  {
   "cell_type": "code",
   "execution_count": 33,
   "metadata": {
    "scrolled": true
   },
   "outputs": [
    {
     "data": {
      "text/plain": [
       "SECUNDARIA      2936\n",
       "PRIMARIA        1709\n",
       "ANALFABETA       107\n",
       "TECNICO           73\n",
       "SUPERIOR          68\n",
       "NO REPORTADO      53\n",
       "-                 14\n",
       "TECNOLOGO          4\n",
       "Name: Escolaridad, dtype: int64"
      ]
     },
     "execution_count": 33,
     "metadata": {},
     "output_type": "execute_result"
    }
   ],
   "source": [
    "homicidios_2018['Escolaridad'].value_counts()"
   ]
  },
  {
   "cell_type": "code",
   "execution_count": 34,
   "metadata": {
    "scrolled": true
   },
   "outputs": [
    {
     "data": {
      "text/plain": [
       "76001000.0    489\n",
       "11001000.0    431\n",
       "5001000.0     201\n",
       "8001000.0     120\n",
       "             ... \n",
       "5138000.0       1\n",
       "68575000.0      1\n",
       "68573000.0      1\n",
       "23855000.0      1\n",
       "Name: Código DANE, Length: 613, dtype: int64"
      ]
     },
     "execution_count": 34,
     "metadata": {},
     "output_type": "execute_result"
    }
   ],
   "source": [
    "homicidios_2018['Código DANE'].value_counts()"
   ]
  },
  {
   "cell_type": "code",
   "execution_count": 35,
   "metadata": {
    "scrolled": true
   },
   "outputs": [
    {
     "name": "stderr",
     "output_type": "stream",
     "text": [
      "C:\\Programs\\Anaconda3\\lib\\site-packages\\pandas\\core\\ops.py:1649: FutureWarning: elementwise comparison failed; returning scalar instead, but in the future will perform elementwise comparison\n",
      "  result = method(y)\n"
     ]
    },
    {
     "data": {
      "text/plain": [
       "False    4964\n",
       "Name: Código DANE, dtype: int64"
      ]
     },
     "execution_count": 35,
     "metadata": {},
     "output_type": "execute_result"
    }
   ],
   "source": [
    "(homicidios_2018['Código DANE'] == '-').value_counts()"
   ]
  },
  {
   "cell_type": "markdown",
   "metadata": {},
   "source": [
    "'Cantidad' is a variable which is not quite clear given that the data reported has variables which describes only 1 person, so I would rather not considering this feature for our analysis"
   ]
  },
  {
   "cell_type": "code",
   "execution_count": 36,
   "metadata": {
    "scrolled": true
   },
   "outputs": [
    {
     "data": {
      "text/plain": [
       "1    4956\n",
       "2       7\n",
       "3       1\n",
       "Name: Cantidad, dtype: int64"
      ]
     },
     "execution_count": 36,
     "metadata": {},
     "output_type": "execute_result"
    }
   ],
   "source": [
    "homicidios_2018['Cantidad'].value_counts()"
   ]
  },
  {
   "cell_type": "code",
   "execution_count": 37,
   "metadata": {},
   "outputs": [
    {
     "data": {
      "text/html": [
       "<div>\n",
       "<style scoped>\n",
       "    .dataframe tbody tr th:only-of-type {\n",
       "        vertical-align: middle;\n",
       "    }\n",
       "\n",
       "    .dataframe tbody tr th {\n",
       "        vertical-align: top;\n",
       "    }\n",
       "\n",
       "    .dataframe thead th {\n",
       "        text-align: right;\n",
       "    }\n",
       "</style>\n",
       "<table border=\"1\" class=\"dataframe\">\n",
       "  <thead>\n",
       "    <tr style=\"text-align: right;\">\n",
       "      <th></th>\n",
       "      <th>Fecha</th>\n",
       "      <th>Departamento</th>\n",
       "      <th>Municipio</th>\n",
       "      <th>Día</th>\n",
       "      <th>Hora</th>\n",
       "      <th>Barrio</th>\n",
       "      <th>Zona</th>\n",
       "      <th>Clase de sitio</th>\n",
       "      <th>Arma empleada</th>\n",
       "      <th>Móvil Agresor</th>\n",
       "      <th>Móvil Victima</th>\n",
       "      <th>Edad</th>\n",
       "      <th>Sexo</th>\n",
       "      <th>Estado civil</th>\n",
       "      <th>País de nacimiento</th>\n",
       "      <th>Clase de empleado</th>\n",
       "      <th>Profesión</th>\n",
       "      <th>Escolaridad</th>\n",
       "      <th>Código DANE</th>\n",
       "      <th>Cantidad</th>\n",
       "    </tr>\n",
       "  </thead>\n",
       "  <tbody>\n",
       "    <tr>\n",
       "      <th>1569</th>\n",
       "      <td>10/04/2018 12:00:00 AM</td>\n",
       "      <td>CAUCA</td>\n",
       "      <td>PATÍA</td>\n",
       "      <td>Martes</td>\n",
       "      <td>18:00:00</td>\n",
       "      <td>VDA BETANIA</td>\n",
       "      <td>RURAL</td>\n",
       "      <td>LOTE BALDIO</td>\n",
       "      <td>ARMA DE FUEGO</td>\n",
       "      <td>A PIE</td>\n",
       "      <td>A PIE</td>\n",
       "      <td>35.0</td>\n",
       "      <td>MASCULINO</td>\n",
       "      <td>SOLTERO</td>\n",
       "      <td>COLOMBIA</td>\n",
       "      <td>DESEMPLEADO</td>\n",
       "      <td>-</td>\n",
       "      <td>PRIMARIA</td>\n",
       "      <td>19532000.0</td>\n",
       "      <td>3</td>\n",
       "    </tr>\n",
       "  </tbody>\n",
       "</table>\n",
       "</div>"
      ],
      "text/plain": [
       "                       Fecha Departamento Municipio     Día      Hora  \\\n",
       "1569  10/04/2018 12:00:00 AM        CAUCA     PATÍA  Martes  18:00:00   \n",
       "\n",
       "           Barrio   Zona Clase de sitio  Arma empleada Móvil Agresor  \\\n",
       "1569  VDA BETANIA  RURAL    LOTE BALDIO  ARMA DE FUEGO         A PIE   \n",
       "\n",
       "     Móvil Victima  Edad       Sexo Estado civil País de nacimiento  \\\n",
       "1569         A PIE  35.0  MASCULINO      SOLTERO           COLOMBIA   \n",
       "\n",
       "     Clase de empleado Profesión Escolaridad  Código DANE  Cantidad  \n",
       "1569       DESEMPLEADO         -    PRIMARIA   19532000.0         3  "
      ]
     },
     "execution_count": 37,
     "metadata": {},
     "output_type": "execute_result"
    }
   ],
   "source": [
    "homicidios_2018[homicidios_2018['Cantidad'] == 3]"
   ]
  },
  {
   "cell_type": "code",
   "execution_count": 38,
   "metadata": {},
   "outputs": [],
   "source": [
    "homicidios_2018.drop('Cantidad', axis=1, inplace=True)"
   ]
  },
  {
   "cell_type": "code",
   "execution_count": 39,
   "metadata": {},
   "outputs": [],
   "source": [
    "homicidios_2018.drop('Profesión', axis=1, inplace=True)"
   ]
  },
  {
   "cell_type": "markdown",
   "metadata": {},
   "source": [
    "# Final dataset for data analysis"
   ]
  },
  {
   "cell_type": "markdown",
   "metadata": {},
   "source": [
    "To have a better data handling"
   ]
  },
  {
   "cell_type": "code",
   "execution_count": 40,
   "metadata": {},
   "outputs": [],
   "source": [
    "homicidios_2018.rename( columns = { 'Fecha' : 'FECHA', 'Departamento' : 'DEPARTAMENTO', 'Municipio' : 'MUNICIPIO',\n",
    "                                   'Día' : 'DIA', 'Hora' : 'HORA', 'Clase de sitio' : 'CLASE SITIO', 'Barrio' : 'BARRIO',\n",
    "                                   'Zona' : 'ZONA', 'Arma empleada' : 'ARMA EMPLEADA', 'Móvil Agresor' : 'MOVIL AGRESOR', \n",
    "                                   'Móvil Victima' : 'MOVIL VICTIMA', 'Edad' : 'EDAD', 'Sexo' : 'GENERO',\n",
    "                                   'Estado civil' : 'ESTADO CIVIL', 'País de nacimiento' : 'PAIS NACIMIENTO',\n",
    "                                   'Clase de empleado' : 'CLASE EMPLEADO', 'Escolaridad' : 'ESCOLARIDAD',\n",
    "                                   'Código DANE' : 'CODIGO DANE'}, inplace = True )\n",
    "homicidios_2018['DIA'].replace({ 'Lunes' : 'LUNES', 'Martes' : 'MARTES', 'Miércoles' : 'MIERCOLES', 'Jueves' : 'JUEVES',\n",
    "                              'Viernes' : 'VIERNES', 'Sábado' : 'SABADO', 'Domingo' : 'DOMINGO'}, inplace = True)\n",
    "homicidios_2018.replace({'-' : 'NO REPORTADO'}, inplace = True)"
   ]
  },
  {
   "cell_type": "code",
   "execution_count": 41,
   "metadata": {},
   "outputs": [
    {
     "data": {
      "text/html": [
       "<div>\n",
       "<style scoped>\n",
       "    .dataframe tbody tr th:only-of-type {\n",
       "        vertical-align: middle;\n",
       "    }\n",
       "\n",
       "    .dataframe tbody tr th {\n",
       "        vertical-align: top;\n",
       "    }\n",
       "\n",
       "    .dataframe thead th {\n",
       "        text-align: right;\n",
       "    }\n",
       "</style>\n",
       "<table border=\"1\" class=\"dataframe\">\n",
       "  <thead>\n",
       "    <tr style=\"text-align: right;\">\n",
       "      <th></th>\n",
       "      <th>FECHA</th>\n",
       "      <th>DEPARTAMENTO</th>\n",
       "      <th>MUNICIPIO</th>\n",
       "      <th>DIA</th>\n",
       "      <th>HORA</th>\n",
       "      <th>BARRIO</th>\n",
       "      <th>ZONA</th>\n",
       "      <th>CLASE SITIO</th>\n",
       "      <th>ARMA EMPLEADA</th>\n",
       "      <th>MOVIL AGRESOR</th>\n",
       "      <th>MOVIL VICTIMA</th>\n",
       "      <th>EDAD</th>\n",
       "      <th>GENERO</th>\n",
       "      <th>ESTADO CIVIL</th>\n",
       "      <th>PAIS NACIMIENTO</th>\n",
       "      <th>CLASE EMPLEADO</th>\n",
       "      <th>ESCOLARIDAD</th>\n",
       "      <th>CODIGO DANE</th>\n",
       "    </tr>\n",
       "  </thead>\n",
       "  <tbody>\n",
       "    <tr>\n",
       "      <th>0</th>\n",
       "      <td>01/01/2018 12:00:00 AM</td>\n",
       "      <td>AMAZONAS</td>\n",
       "      <td>LETICIA (CT)</td>\n",
       "      <td>LUNES</td>\n",
       "      <td>9:45:00</td>\n",
       "      <td>ESPERANZA</td>\n",
       "      <td>URBANA</td>\n",
       "      <td>VIAS PUBLICAS</td>\n",
       "      <td>ARMA BLANCA / CORTOPUNZANTE</td>\n",
       "      <td>A PIE</td>\n",
       "      <td>A PIE</td>\n",
       "      <td>16.0</td>\n",
       "      <td>MASCULINO</td>\n",
       "      <td>SOLTERO</td>\n",
       "      <td>BRASIL</td>\n",
       "      <td>EMPLEADO PARTICULAR</td>\n",
       "      <td>SECUNDARIA</td>\n",
       "      <td>91001000.0</td>\n",
       "    </tr>\n",
       "    <tr>\n",
       "      <th>1</th>\n",
       "      <td>01/01/2018 12:00:00 AM</td>\n",
       "      <td>AMAZONAS</td>\n",
       "      <td>LETICIA (CT)</td>\n",
       "      <td>LUNES</td>\n",
       "      <td>9:45:00</td>\n",
       "      <td>ESPERANZA</td>\n",
       "      <td>URBANA</td>\n",
       "      <td>VIAS PUBLICAS</td>\n",
       "      <td>ARMA BLANCA / CORTOPUNZANTE</td>\n",
       "      <td>A PIE</td>\n",
       "      <td>A PIE</td>\n",
       "      <td>17.0</td>\n",
       "      <td>MASCULINO</td>\n",
       "      <td>SOLTERO</td>\n",
       "      <td>BRASIL</td>\n",
       "      <td>EMPLEADO PARTICULAR</td>\n",
       "      <td>SECUNDARIA</td>\n",
       "      <td>91001000.0</td>\n",
       "    </tr>\n",
       "    <tr>\n",
       "      <th>2</th>\n",
       "      <td>01/01/2018 12:00:00 AM</td>\n",
       "      <td>ANTIOQUIA</td>\n",
       "      <td>ANDES</td>\n",
       "      <td>LUNES</td>\n",
       "      <td>8:30:00</td>\n",
       "      <td>ALTO DEL CEDRON</td>\n",
       "      <td>RURAL</td>\n",
       "      <td>VIAS PUBLICAS</td>\n",
       "      <td>ARMA DE FUEGO</td>\n",
       "      <td>A PIE</td>\n",
       "      <td>A PIE</td>\n",
       "      <td>26.0</td>\n",
       "      <td>MASCULINO</td>\n",
       "      <td>SOLTERO</td>\n",
       "      <td>COLOMBIA</td>\n",
       "      <td>INDEPENDIENTE</td>\n",
       "      <td>PRIMARIA</td>\n",
       "      <td>5034000.0</td>\n",
       "    </tr>\n",
       "    <tr>\n",
       "      <th>3</th>\n",
       "      <td>01/01/2018 12:00:00 AM</td>\n",
       "      <td>ANTIOQUIA</td>\n",
       "      <td>ANDES</td>\n",
       "      <td>LUNES</td>\n",
       "      <td>2:30:00</td>\n",
       "      <td>PARQUE PRINCIPAL</td>\n",
       "      <td>RURAL</td>\n",
       "      <td>PARQUES</td>\n",
       "      <td>ARMA BLANCA / CORTOPUNZANTE</td>\n",
       "      <td>A PIE</td>\n",
       "      <td>A PIE</td>\n",
       "      <td>30.0</td>\n",
       "      <td>MASCULINO</td>\n",
       "      <td>SOLTERO</td>\n",
       "      <td>COLOMBIA</td>\n",
       "      <td>AGRICULTOR</td>\n",
       "      <td>PRIMARIA</td>\n",
       "      <td>5034000.0</td>\n",
       "    </tr>\n",
       "    <tr>\n",
       "      <th>...</th>\n",
       "      <td>...</td>\n",
       "      <td>...</td>\n",
       "      <td>...</td>\n",
       "      <td>...</td>\n",
       "      <td>...</td>\n",
       "      <td>...</td>\n",
       "      <td>...</td>\n",
       "      <td>...</td>\n",
       "      <td>...</td>\n",
       "      <td>...</td>\n",
       "      <td>...</td>\n",
       "      <td>...</td>\n",
       "      <td>...</td>\n",
       "      <td>...</td>\n",
       "      <td>...</td>\n",
       "      <td>...</td>\n",
       "      <td>...</td>\n",
       "      <td>...</td>\n",
       "    </tr>\n",
       "    <tr>\n",
       "      <th>4961</th>\n",
       "      <td>12/12/2018 12:00:00 AM</td>\n",
       "      <td>SANTANDER</td>\n",
       "      <td>BARRANCABERMEJA</td>\n",
       "      <td>MIERCOLES</td>\n",
       "      <td>20:09:00</td>\n",
       "      <td>MIRADORES DEL CACIQUE</td>\n",
       "      <td>URBANA</td>\n",
       "      <td>VIAS PUBLICAS</td>\n",
       "      <td>ARMA DE FUEGO</td>\n",
       "      <td>PASAJERO MOTOCICLETA</td>\n",
       "      <td>A PIE</td>\n",
       "      <td>58.0</td>\n",
       "      <td>MASCULINO</td>\n",
       "      <td>SOLTERO</td>\n",
       "      <td>COLOMBIA</td>\n",
       "      <td>EMPLEADO PARTICULAR</td>\n",
       "      <td>PRIMARIA</td>\n",
       "      <td>68081000.0</td>\n",
       "    </tr>\n",
       "    <tr>\n",
       "      <th>4962</th>\n",
       "      <td>12/12/2018 12:00:00 AM</td>\n",
       "      <td>VALLE</td>\n",
       "      <td>CALI (CT)</td>\n",
       "      <td>MIERCOLES</td>\n",
       "      <td>19:47:00</td>\n",
       "      <td>REPUBLICA ISRAEL E16</td>\n",
       "      <td>URBANA</td>\n",
       "      <td>VIAS PUBLICAS</td>\n",
       "      <td>ARMA DE FUEGO</td>\n",
       "      <td>A PIE</td>\n",
       "      <td>A PIE</td>\n",
       "      <td>32.0</td>\n",
       "      <td>FEMENINO</td>\n",
       "      <td>SOLTERO</td>\n",
       "      <td>COLOMBIA</td>\n",
       "      <td>AMA DE CASA</td>\n",
       "      <td>SECUNDARIA</td>\n",
       "      <td>76001000.0</td>\n",
       "    </tr>\n",
       "    <tr>\n",
       "      <th>4963</th>\n",
       "      <td>12/12/2018 12:00:00 AM</td>\n",
       "      <td>VALLE</td>\n",
       "      <td>CALI (CT)</td>\n",
       "      <td>MIERCOLES</td>\n",
       "      <td>19:47:00</td>\n",
       "      <td>REPUBLICA ISRAEL E16</td>\n",
       "      <td>URBANA</td>\n",
       "      <td>VIAS PUBLICAS</td>\n",
       "      <td>ARMA DE FUEGO</td>\n",
       "      <td>A PIE</td>\n",
       "      <td>A PIE</td>\n",
       "      <td>39.0</td>\n",
       "      <td>MASCULINO</td>\n",
       "      <td>SOLTERO</td>\n",
       "      <td>COLOMBIA</td>\n",
       "      <td>EMPLEADO PARTICULAR</td>\n",
       "      <td>SECUNDARIA</td>\n",
       "      <td>76001000.0</td>\n",
       "    </tr>\n",
       "    <tr>\n",
       "      <th>4964</th>\n",
       "      <td>12/12/2018 12:00:00 AM</td>\n",
       "      <td>VALLE</td>\n",
       "      <td>GUADALAJARA DE BUGA</td>\n",
       "      <td>MIERCOLES</td>\n",
       "      <td>17:45:00</td>\n",
       "      <td>CORR. CHAMBIMBAL/CAMPIÑ</td>\n",
       "      <td>RURAL</td>\n",
       "      <td>FINCAS Y SIMILARES</td>\n",
       "      <td>ARMA BLANCA / CORTOPUNZANTE</td>\n",
       "      <td>A PIE</td>\n",
       "      <td>A PIE</td>\n",
       "      <td>16.0</td>\n",
       "      <td>MASCULINO</td>\n",
       "      <td>SOLTERO</td>\n",
       "      <td>COLOMBIA</td>\n",
       "      <td>DESEMPLEADO</td>\n",
       "      <td>SECUNDARIA</td>\n",
       "      <td>76111000.0</td>\n",
       "    </tr>\n",
       "  </tbody>\n",
       "</table>\n",
       "<p>4964 rows × 18 columns</p>\n",
       "</div>"
      ],
      "text/plain": [
       "                       FECHA DEPARTAMENTO            MUNICIPIO        DIA  \\\n",
       "0     01/01/2018 12:00:00 AM     AMAZONAS         LETICIA (CT)      LUNES   \n",
       "1     01/01/2018 12:00:00 AM     AMAZONAS         LETICIA (CT)      LUNES   \n",
       "2     01/01/2018 12:00:00 AM    ANTIOQUIA                ANDES      LUNES   \n",
       "3     01/01/2018 12:00:00 AM    ANTIOQUIA                ANDES      LUNES   \n",
       "...                      ...          ...                  ...        ...   \n",
       "4961  12/12/2018 12:00:00 AM    SANTANDER      BARRANCABERMEJA  MIERCOLES   \n",
       "4962  12/12/2018 12:00:00 AM        VALLE            CALI (CT)  MIERCOLES   \n",
       "4963  12/12/2018 12:00:00 AM        VALLE            CALI (CT)  MIERCOLES   \n",
       "4964  12/12/2018 12:00:00 AM        VALLE  GUADALAJARA DE BUGA  MIERCOLES   \n",
       "\n",
       "          HORA                   BARRIO    ZONA         CLASE SITIO  \\\n",
       "0      9:45:00                ESPERANZA  URBANA       VIAS PUBLICAS   \n",
       "1      9:45:00                ESPERANZA  URBANA       VIAS PUBLICAS   \n",
       "2      8:30:00          ALTO DEL CEDRON   RURAL       VIAS PUBLICAS   \n",
       "3      2:30:00         PARQUE PRINCIPAL   RURAL             PARQUES   \n",
       "...        ...                      ...     ...                 ...   \n",
       "4961  20:09:00    MIRADORES DEL CACIQUE  URBANA       VIAS PUBLICAS   \n",
       "4962  19:47:00     REPUBLICA ISRAEL E16  URBANA       VIAS PUBLICAS   \n",
       "4963  19:47:00     REPUBLICA ISRAEL E16  URBANA       VIAS PUBLICAS   \n",
       "4964  17:45:00  CORR. CHAMBIMBAL/CAMPIÑ   RURAL  FINCAS Y SIMILARES   \n",
       "\n",
       "                    ARMA EMPLEADA         MOVIL AGRESOR MOVIL VICTIMA  EDAD  \\\n",
       "0     ARMA BLANCA / CORTOPUNZANTE                 A PIE         A PIE  16.0   \n",
       "1     ARMA BLANCA / CORTOPUNZANTE                 A PIE         A PIE  17.0   \n",
       "2                   ARMA DE FUEGO                 A PIE         A PIE  26.0   \n",
       "3     ARMA BLANCA / CORTOPUNZANTE                 A PIE         A PIE  30.0   \n",
       "...                           ...                   ...           ...   ...   \n",
       "4961                ARMA DE FUEGO  PASAJERO MOTOCICLETA         A PIE  58.0   \n",
       "4962                ARMA DE FUEGO                 A PIE         A PIE  32.0   \n",
       "4963                ARMA DE FUEGO                 A PIE         A PIE  39.0   \n",
       "4964  ARMA BLANCA / CORTOPUNZANTE                 A PIE         A PIE  16.0   \n",
       "\n",
       "         GENERO ESTADO CIVIL PAIS NACIMIENTO       CLASE EMPLEADO ESCOLARIDAD  \\\n",
       "0     MASCULINO      SOLTERO          BRASIL  EMPLEADO PARTICULAR  SECUNDARIA   \n",
       "1     MASCULINO      SOLTERO          BRASIL  EMPLEADO PARTICULAR  SECUNDARIA   \n",
       "2     MASCULINO      SOLTERO        COLOMBIA        INDEPENDIENTE    PRIMARIA   \n",
       "3     MASCULINO      SOLTERO        COLOMBIA           AGRICULTOR    PRIMARIA   \n",
       "...         ...          ...             ...                  ...         ...   \n",
       "4961  MASCULINO      SOLTERO        COLOMBIA  EMPLEADO PARTICULAR    PRIMARIA   \n",
       "4962   FEMENINO      SOLTERO        COLOMBIA          AMA DE CASA  SECUNDARIA   \n",
       "4963  MASCULINO      SOLTERO        COLOMBIA  EMPLEADO PARTICULAR  SECUNDARIA   \n",
       "4964  MASCULINO      SOLTERO        COLOMBIA          DESEMPLEADO  SECUNDARIA   \n",
       "\n",
       "      CODIGO DANE  \n",
       "0      91001000.0  \n",
       "1      91001000.0  \n",
       "2       5034000.0  \n",
       "3       5034000.0  \n",
       "...           ...  \n",
       "4961   68081000.0  \n",
       "4962   76001000.0  \n",
       "4963   76001000.0  \n",
       "4964   76111000.0  \n",
       "\n",
       "[4964 rows x 18 columns]"
      ]
     },
     "execution_count": 41,
     "metadata": {},
     "output_type": "execute_result"
    }
   ],
   "source": [
    "homicidios_2018"
   ]
  },
  {
   "cell_type": "markdown",
   "metadata": {},
   "source": [
    "## In conlcusion for point 2, there has been a profound analysis of each of the elements of the dataset, this is very sensible data considering that it involves homicides data of Colombia, therefore I have found two very critical variables which were deleted from the final table, these are 'Profesion' and 'Cantidad'. I consider, it is important to have clear data and the source of it should be contacted if there are misleading information. \n",
    "\n",
    "## There is another aspect which is important to consider and it is the '-' or not given data, although I do not see it as a critical aspect to leave it out of the dataset, it should be considered if there is further analysis where those become an important part of it."
   ]
  },
  {
   "cell_type": "code",
   "execution_count": 42,
   "metadata": {},
   "outputs": [],
   "source": [
    "homicidios_2018.to_csv('./modified_dataset/homicidios_2018.csv', index=False)"
   ]
  }
 ],
 "metadata": {
  "kernelspec": {
   "display_name": "Python 3",
   "language": "python",
   "name": "python3"
  },
  "language_info": {
   "codemirror_mode": {
    "name": "ipython",
    "version": 3
   },
   "file_extension": ".py",
   "mimetype": "text/x-python",
   "name": "python",
   "nbconvert_exporter": "python",
   "pygments_lexer": "ipython3",
   "version": "3.7.3"
  }
 },
 "nbformat": 4,
 "nbformat_minor": 2
}
